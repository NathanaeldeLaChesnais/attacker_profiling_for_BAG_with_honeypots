{
 "cells": [
  {
   "cell_type": "markdown",
   "metadata": {},
   "source": [
    "Import the librairies and modules:"
   ]
  },
  {
   "cell_type": "code",
   "execution_count": 1,
   "metadata": {},
   "outputs": [],
   "source": [
    "import numpy as np\n",
    "import networkx as nx\n",
    "import os\n",
    "import csv\n",
    "from BAG_Code_tw520.createORtable import create_OR_table\n",
    "from BAG_Code_tw520.BayesianAttackGraphForCVSS import parse_dot\n",
    "from Threat_Inteligence.CWE_tree.parse import parse_xml\n",
    "from BAG_Code_tw520.BayesianAttackGraphForCVSS import change_prob\n",
    "from pgmpy.factors.discrete import TabularCPD\n",
    "from pgmpy.inference.ExactInference import BeliefPropagation"
   ]
  },
  {
   "cell_type": "markdown",
   "metadata": {},
   "source": [
    "To prepare the simulation use the following to put the graph in memory:"
   ]
  },
  {
   "cell_type": "code",
   "execution_count": 2,
   "metadata": {},
   "outputs": [],
   "source": [
    "# Name of the simulation\n",
    "simulation = \"OCD_pentest\"\n",
    "\n",
    "# Path to the folder containing the tree\n",
    "path = \"C:/Users/docuser/Documents/ImperialWork/Personnal_simulations/output_\" + simulation + \"/strongly_connected_components/\"\n",
    "file_name = \"ag-nocycles.dot\"\n",
    "path_to_dot = path + file_name\n",
    "output_file = path + file_name[:-4] + \"_inference.txt\"\n",
    "\n",
    "# We all read from the file, adding probabilities in the same time\n",
    "BAG, edges, nodes = parse_dot(open(path_to_dot, 'r').read())\n",
    "\n",
    "# This is the reference BAG, before the attacker has compromised any node\n",
    "BAG_ref = BAG.copy()\n",
    "prop0 = BeliefPropagation(BAG_ref)\n",
    "\n",
    "# We create a dictionary to get the node number from the label\n",
    "inverted_nodes = {int(v['label'].split(':')[0]): k for k, v in nodes.items()}"
   ]
  },
  {
   "cell_type": "code",
   "execution_count": 1,
   "metadata": {},
   "outputs": [
    {
     "ename": "NameError",
     "evalue": "name 'nx' is not defined",
     "output_type": "error",
     "traceback": [
      "\u001b[1;31m---------------------------------------------------------------------------\u001b[0m",
      "\u001b[1;31mNameError\u001b[0m                                 Traceback (most recent call last)",
      "Cell \u001b[1;32mIn[1], line 2\u001b[0m\n\u001b[0;32m      1\u001b[0m \u001b[38;5;66;03m# Introducing link between CWEs themselves\u001b[39;00m\n\u001b[1;32m----> 2\u001b[0m Gcwe \u001b[38;5;241m=\u001b[39m \u001b[43mnx\u001b[49m\u001b[38;5;241m.\u001b[39mGraph()\n\u001b[0;32m      3\u001b[0m parse_xml(os\u001b[38;5;241m.\u001b[39mgetcwd()\u001b[38;5;241m+\u001b[39m\u001b[38;5;124m'\u001b[39m\u001b[38;5;124m/Threat_Inteligence/CWE_tree/1000.xml\u001b[39m\u001b[38;5;124m'\u001b[39m, Gcwe)\n\u001b[0;32m      5\u001b[0m \u001b[38;5;66;03m# Introducing link between CWEs and CVEs\u001b[39;00m\n",
      "\u001b[1;31mNameError\u001b[0m: name 'nx' is not defined"
     ]
    }
   ],
   "source": [
    "# Introducing link between CWEs themselves\n",
    "Gcwe = nx.Graph()\n",
    "parse_xml(os.getcwd()+'/Threat_Inteligence/CWE_tree/1000.xml', Gcwe)\n",
    "\n",
    "# Introducing link between CWEs and CVEs\n",
    "cwe_file = csv.DictReader(open(os.getcwd()+'/Threat_Inteligence/CVE_to_CWE.csv', 'r'))\n",
    "cwe_dict = {row['Vulnerability']: row['weakness'] for row in cwe_file}"
   ]
  },
  {
   "cell_type": "markdown",
   "metadata": {},
   "source": [
    "# When the attacker become admin of host and we want to recalculate for domain admin\n",
    "src_node = [31, 20, 23, 25, 27, 29]\n",
    "dst_node = [2,7, 9, 11, 15, 17]"
   ]
  },
  {
   "cell_type": "code",
   "execution_count": 8,
   "metadata": {},
   "outputs": [
    {
     "name": "stdout",
     "output_type": "stream",
     "text": [
      "CVE-2021-42278\n",
      "CVE-2021-42287\n",
      "CVE-2022-26923\n"
     ]
    }
   ],
   "source": [
    "# We list the CVE that are before the attacker position\n",
    "src_node = [7, 10, 12, 21, 25, 27]\n",
    "dst_node = [ 14, 16, 18]\n",
    "# We always start from the original probabilities of the CVEs\n",
    "BAG = BAG_ref.copy()\n",
    "\n",
    "# We modify the conditional probabilities according to the attacks that have been done\n",
    "change_prob(BAG, edges, nodes, src_node, dst_node, inverted_nodes, cwe_dict, Gcwe, prop0)"
   ]
  },
  {
   "cell_type": "code",
   "execution_count": 9,
   "metadata": {},
   "outputs": [
    {
     "name": "stdout",
     "output_type": "stream",
     "text": [
      "+------+----------+\n",
      "| 1    |   phi(1) |\n",
      "+======+==========+\n",
      "| 1(0) |   0.5220 |\n",
      "+------+----------+\n",
      "| 1(1) |   0.4780 |\n",
      "+------+----------+\n",
      "+------+----------+\n",
      "| 1    |   phi(1) |\n",
      "+======+==========+\n",
      "| 1(0) |   0.1603 |\n",
      "+------+----------+\n",
      "| 1(1) |   0.8397 |\n",
      "+------+----------+\n",
      "+------+----------+\n",
      "| 1    |   phi(1) |\n",
      "+======+==========+\n",
      "| 1(0) |   0.1600 |\n",
      "+------+----------+\n",
      "| 1(1) |   0.8400 |\n",
      "+------+----------+\n"
     ]
    }
   ],
   "source": [
    "#We use the pgmpy library to perform the inference\n",
    "prop = BeliefPropagation(BAG)\n",
    "\n",
    "cibles = [1]\n",
    "for cible in cibles:\n",
    "    print(prop0.query([inverted_nodes[cible]]))\n",
    "    print(prop0.query([inverted_nodes[cible]], evidence={6:1}))\n",
    "    print(prop.query([inverted_nodes[cible]], evidence={6:1}))"
   ]
  },
  {
   "cell_type": "code",
   "execution_count": null,
   "metadata": {},
   "outputs": [],
   "source": [
    "# distance = nx.shortest_path_length(Gcwe, source='119', target='255')\n",
    "# print(\"Distance between nodes '1004' and '732':\", distance)\n",
    "\n",
    "# print(BAG.get_cpds(inverted_nodes[7]))\n",
    "# table = create_OR_table([0.1])\n",
    "# source = []\n",
    "# for edge in edges:\n",
    "#     if edge[1] == inverted_nodes[7]:\n",
    "#         source.append(edge[0])\n",
    "# npa = len(source)\n",
    "# BAG.add_cpds(TabularCPD(inverted_nodes[7], 2, table.T, source, evidence_card=2*np.ones(npa)))\n",
    "# print(BAG.get_cpds(inverted_nodes[7]))\n",
    "\n",
    "\n",
    "# output = open(output_file, 'w')\n",
    "# for node in nodes.items():\n",
    "#     output.write(f'{nodes[node[0]][\"label\"]} : {prop.query([node[0]])}\\n')"
   ]
  }
 ],
 "metadata": {
  "kernelspec": {
   "display_name": "Python 3",
   "language": "python",
   "name": "python3"
  },
  "language_info": {
   "codemirror_mode": {
    "name": "ipython",
    "version": 3
   },
   "file_extension": ".py",
   "mimetype": "text/x-python",
   "name": "python",
   "nbconvert_exporter": "python",
   "pygments_lexer": "ipython3",
   "version": "3.12.3"
  }
 },
 "nbformat": 4,
 "nbformat_minor": 2
}
