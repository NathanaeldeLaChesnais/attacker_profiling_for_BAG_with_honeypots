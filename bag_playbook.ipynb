{
 "cells": [
  {
   "cell_type": "markdown",
   "metadata": {},
   "source": [
    "Import the librairies and modules:"
   ]
  },
  {
   "cell_type": "code",
   "execution_count": 2,
   "metadata": {},
   "outputs": [],
   "source": [
    "import networkx as nx\n",
    "import os\n",
    "import csv\n",
    "import re\n",
    "import numpy as np\n",
    "from BAG_Code_tw520.BayesianAttackGraphForCVSS import parse_dot\n",
    "from Threat_Inteligence.CWE_tree.parse import parse_xml\n",
    "from BAG_Code_tw520.BayesianAttackGraphForCVSS import change_prob\n",
    "from BAG_Code_tw520.createANDtable import create_AND_table\n",
    "from BAG_Code_tw520.createORtable import create_OR_table\n",
    "\n",
    "from pgmpy.inference.ExactInference import BeliefPropagation\n",
    "from pgmpy.models import BayesianNetwork\n",
    "from pgmpy.factors.discrete import TabularCPD\n"
   ]
  },
  {
   "cell_type": "markdown",
   "metadata": {},
   "source": [
    "To prepare the simulation use the following to put the graph in memory:"
   ]
  },
  {
   "cell_type": "code",
   "execution_count": 3,
   "metadata": {},
   "outputs": [],
   "source": [
    "def parse_dot(dot_string):\n",
    "    nodes = {}\n",
    "    edges = []\n",
    "\n",
    "    # Définir une expression régulière pour extraire les informations de chaque nœud\n",
    "    # node_pattern = re.compile(\"(\\d+)\")\n",
    "    node_pattern = re.compile(r'\\s+(\\d+)\\s+\\[\\s*label=\"([^\"]+)\"\\s+shape=\"([^\"]+)\"\\s+CVE=\"([^\"]+)\"\\s*\\];')\n",
    "\n",
    "    # Définir une expression régulière pour extraire les arêtes\n",
    "    edge_pattern = re.compile(r'\\s+(\\d+)\\s*->\\s*(\\d+)\\s+\\[\\s+color=\"[^\"]+\"\\s*\\];')\n",
    "\n",
    "    # Parcourir chaque ligne du texte\n",
    "    for line in dot_string.split('\\n'):\n",
    "        # Vérifier si la ligne correspond à un nœud\n",
    "        node_match = node_pattern.match(line)\n",
    "        # Vérifier si la ligne correspond à une arête\n",
    "        edge_match = edge_pattern.match(line)\n",
    "        if node_match:\n",
    "            node_id = int(node_match.group(1))\n",
    "            label = node_match.group(2)\n",
    "            shape = node_match.group(3)\n",
    "            node_type = 'AND' if shape == \"ellipse\" else 'OR'\n",
    "            cveID = node_match.group(4).strip(\"\\'\")\n",
    "            nodes[node_id] = {'label': label, 'type': node_type, 'CVE': cveID}\n",
    "        elif edge_match:\n",
    "            source = int(edge_match.group(1))\n",
    "            target = int(edge_match.group(2))\n",
    "            edges.append((source, target))\n",
    "    model = BayesianNetwork(edges)\n",
    "    # Read the probabilities for each CVE\n",
    "    cvss_dict = {}\n",
    "    with open('C:/Users/docuser/Documents/ImperialWork/Threat_Inteligence/epss_scores-2024-04-25.csv', mode='r') as csvfile:\n",
    "        reader = csv.DictReader(csvfile)\n",
    "        for row in reader:\n",
    "            cvss_dict[row['cve']] = row['epss']\n",
    "    for elem in nodes.items():\n",
    "        r = elem[1]['type'] == 'OR'\n",
    "        #We look for the source nodes\n",
    "        source = []\n",
    "        probs = []\n",
    "        for edge in edges:\n",
    "            if edge[1] == elem[0]:\n",
    "                source.append(edge[0])\n",
    "                if elem[1]['CVE'] == \"null\":\n",
    "                    # We use the probability associated to the rule if not null\n",
    "                    tmp = float(elem[1]['label'].split(':')[2])\n",
    "                    if tmp != 0:\n",
    "                        print(elem[1]['label'])\n",
    "                        probs.append(float(tmp))\n",
    "                    else: \n",
    "                        probs.append(0.9999999)\n",
    "                else:\n",
    "                    probs.append(float(cvss_dict[elem[1]['CVE']]))\n",
    "        npa = len(source)\n",
    "        #We draw the probability from the distribution of CVSS scores\n",
    "        if r:\n",
    "            cpt = create_OR_table(probs)\n",
    "        else:\n",
    "            cpt = create_AND_table(probs)\n",
    "        if npa:\n",
    "            cpd = TabularCPD(elem[0], 2, cpt.T, source, evidence_card=2*np.ones(npa))\n",
    "        else:\n",
    "            cpd = TabularCPD(elem[0], 2, cpt.T)\n",
    "        #Insert the conditional probability table into the Bayesian Network object\n",
    "        model.add_cpds(cpd)\n",
    "    return model, edges, nodes\n",
    "\n",
    "\n",
    "def change_prob(BAG, edges, nodes, cwe_dict, Gcwe, prop0, factor, evidence_loc):\n",
    "    src_node = set()\n",
    "    for c_node in evidence_loc:\n",
    "        src_node.update(get_all_ancestors(BAG, c_node))\n",
    "    dst_node = set(nodes) - src_node\n",
    "    for dst_n in dst_node:\n",
    "        dst_k = dst_n\n",
    "        dst_cve = nodes[dst_k]['CVE']\n",
    "        if dst_cve == \"null\":\n",
    "            continue\n",
    "        print(dst_cve)\n",
    "        dst_cwe = cwe_dict[dst_cve]\n",
    "        if dst_cwe != 'NVD-CWE-Other' and dst_cwe != \"NVD-CWE-noinfo\":\n",
    "            for e in edges:\n",
    "                if e[1] == dst_k:\n",
    "                    source = [e[0]]\n",
    "                    new_prob = BAG.get_cpds(dst_k).values[1][1]\n",
    "                    for s in src_node:\n",
    "                        src_k = s\n",
    "                        src_cve = nodes[src_k]['CVE']\n",
    "                        if src_cve == \"null\":\n",
    "                            continue\n",
    "                        src_cwe = cwe_dict[src_cve]\n",
    "                        if src_cwe != 'NVD-CWE-Other' and src_cwe != \"NVD-CWE-noinfo\":\n",
    "                            dist = nx.shortest_path_length(Gcwe, source=src_cwe.split('-')[1], target=dst_cwe.split('-')[1])\n",
    "                            print(\"CVE source : \" + nodes[src_k]['label'])\n",
    "                            tmp_prob = factor**(dist+1) * prop0.query([src_k],evidence=evidence_loc).values[1]\n",
    "                            print(222222222222222222222222222222)\n",
    "                            new_prob = tmp_prob + new_prob - new_prob*tmp_prob\n",
    "                    props = create_OR_table([new_prob])\n",
    "                    BAG.remove_cpds(dst_k)\n",
    "                    BAG.add_cpds(TabularCPD(dst_k, 2, props.T, source, evidence_card=2*np.ones(1)))\n",
    "\n",
    "def get_all_ancestors(BAG, node, ancestors=set()):\n",
    "    parents = BAG.get_parents(node)\n",
    "    ancestors.update(parents)\n",
    "    for p in parents:\n",
    "        get_all_ancestors(BAG, p, ancestors)\n",
    "    return ancestors\n"
   ]
  },
  {
   "cell_type": "code",
   "execution_count": 4,
   "metadata": {},
   "outputs": [
    {
     "name": "stdout",
     "output_type": "stream",
     "text": [
      "2:RULE 10 (permissions move):0.8\n",
      "2:RULE 10 (permissions move):0.8\n",
      "4:RULE 6 (valid credentials may be found):0.8\n",
      "22:RULE 3 (host may be vulnerable):0.2\n",
      "33:RULE 5 (low access is possible):0.8\n"
     ]
    }
   ],
   "source": [
    "# Name of the simulation\n",
    "simulation = \"OCD_kcwe\"\n",
    "\n",
    "# Path to the folder containing the tree\n",
    "path = \"C:/Users/docuser/Documents/ImperialWork/Personnal_simulations/output_\" + simulation + \"/strongly_connected_components/\"\n",
    "file_name = \"ag-nocycles.dot\"\n",
    "path_to_dot = path + file_name\n",
    "output_file = path + file_name[:-4] + \"_inference.txt\"\n",
    "\n",
    "# We all read from the file, adding probabilities in the same time\n",
    "BAG, edges, nodes = parse_dot(open(path_to_dot, 'r').read())\n",
    "\n",
    "# This is the reference BAG, before the attacker has compromised any node\n",
    "BAG_ref = BAG.copy()\n",
    "prop0 = BeliefPropagation(BAG_ref)\n",
    "\n",
    "# We create a dictionary to get the node number from the label\n",
    "inverted_nodes = {int(v['label'].split(':')[0]): k for k, v in nodes.items()}"
   ]
  },
  {
   "cell_type": "code",
   "execution_count": 5,
   "metadata": {},
   "outputs": [
    {
     "name": "stdout",
     "output_type": "stream",
     "text": [
      "+------+------+-----------------------+\n",
      "| 4    | 4(0) | 4(1)                  |\n",
      "+------+------+-----------------------+\n",
      "| 3(0) | 1.0  | 9.999999994736442e-08 |\n",
      "+------+------+-----------------------+\n",
      "| 3(1) | 0.0  | 0.9999999             |\n",
      "+------+------+-----------------------+\n"
     ]
    }
   ],
   "source": [
    "print(BAG.get_cpds(3))"
   ]
  },
  {
   "cell_type": "code",
   "execution_count": 6,
   "metadata": {},
   "outputs": [],
   "source": [
    "# Introducing link between CWEs themselves\n",
    "Gcwe = nx.Graph()\n",
    "parse_xml(os.getcwd()+'/Threat_Inteligence/CWE_tree/1000.xml', Gcwe)\n",
    "\n",
    "# Introducing link between CWEs and CVEs\n",
    "cwe_file = csv.DictReader(open(os.getcwd()+'/Threat_Inteligence/CVE_to_CWE.csv', 'r'))\n",
    "cwe_dict = {row['Vulnerability']: row['weakness'] for row in cwe_file}"
   ]
  },
  {
   "cell_type": "markdown",
   "metadata": {},
   "source": [
    "## When the attacker become dcsync and we want to recalculate for domain admin\n",
    "src_node = [7, 10]\n",
    "dst_node = [ 14, 16, 12, 2]"
   ]
  },
  {
   "cell_type": "code",
   "execution_count": 7,
   "metadata": {},
   "outputs": [
    {
     "name": "stdout",
     "output_type": "stream",
     "text": [
      "CVE-2020-1472\n",
      "CVE source : 19:RULE 4 (classic quick compromission attack is possible against host or domain):0.2\n",
      "222222222222222222222222222222\n",
      "CVE source : 23:RULE 4 (classic quick compromission attack is possible against host or domain):0.2\n",
      "222222222222222222222222222222\n",
      "CVE source : 25:RULE 4 (classic quick compromission attack is possible against host or domain):0.2\n"
     ]
    },
    {
     "name": "stderr",
     "output_type": "stream",
     "text": [
      "c:\\Users\\docuser\\AppData\\Local\\Programs\\Python\\Python312\\Lib\\site-packages\\pgmpy\\factors\\discrete\\DiscreteFactor.py:796: RuntimeWarning: invalid value encountered in divide\n",
      "  phi.values = phi.values / phi1.values\n"
     ]
    },
    {
     "name": "stdout",
     "output_type": "stream",
     "text": [
      "222222222222222222222222222222\n",
      "CVE source : 27:RULE 8 (admin access is possible):0.2\n",
      "222222222222222222222222222222\n",
      "CVE source : 30:RULE 9 (privilege escalation):0.2\n",
      "222222222222222222222222222222\n",
      "CVE-2022-26925\n",
      "CVE source : 19:RULE 4 (classic quick compromission attack is possible against host or domain):0.2\n",
      "222222222222222222222222222222\n",
      "CVE source : 23:RULE 4 (classic quick compromission attack is possible against host or domain):0.2\n",
      "222222222222222222222222222222\n",
      "CVE source : 25:RULE 4 (classic quick compromission attack is possible against host or domain):0.2\n",
      "222222222222222222222222222222\n",
      "CVE source : 27:RULE 8 (admin access is possible):0.2\n",
      "222222222222222222222222222222\n",
      "CVE source : 30:RULE 9 (privilege escalation):0.2\n",
      "222222222222222222222222222222\n",
      "CVE-2021-42278\n",
      "CVE source : 19:RULE 4 (classic quick compromission attack is possible against host or domain):0.2\n",
      "222222222222222222222222222222\n",
      "CVE source : 23:RULE 4 (classic quick compromission attack is possible against host or domain):0.2\n",
      "222222222222222222222222222222\n",
      "CVE source : 25:RULE 4 (classic quick compromission attack is possible against host or domain):0.2\n",
      "222222222222222222222222222222\n",
      "CVE source : 27:RULE 8 (admin access is possible):0.2\n",
      "222222222222222222222222222222\n",
      "CVE source : 30:RULE 9 (privilege escalation):0.2\n",
      "222222222222222222222222222222\n",
      "CVE-2021-42287\n",
      "CVE source : 19:RULE 4 (classic quick compromission attack is possible against host or domain):0.2\n",
      "222222222222222222222222222222\n",
      "CVE source : 23:RULE 4 (classic quick compromission attack is possible against host or domain):0.2\n",
      "222222222222222222222222222222\n",
      "CVE source : 25:RULE 4 (classic quick compromission attack is possible against host or domain):0.2\n",
      "222222222222222222222222222222\n",
      "CVE source : 27:RULE 8 (admin access is possible):0.2\n",
      "222222222222222222222222222222\n",
      "CVE source : 30:RULE 9 (privilege escalation):0.2\n",
      "222222222222222222222222222222\n",
      "CVE-2022-26923\n",
      "CVE source : 19:RULE 4 (classic quick compromission attack is possible against host or domain):0.2\n",
      "222222222222222222222222222222\n",
      "CVE source : 23:RULE 4 (classic quick compromission attack is possible against host or domain):0.2\n",
      "222222222222222222222222222222\n",
      "CVE source : 25:RULE 4 (classic quick compromission attack is possible against host or domain):0.2\n",
      "222222222222222222222222222222\n",
      "CVE source : 27:RULE 8 (admin access is possible):0.2\n",
      "222222222222222222222222222222\n",
      "CVE source : 30:RULE 9 (privilege escalation):0.2\n",
      "222222222222222222222222222222\n"
     ]
    }
   ],
   "source": [
    "# We list the CVE that are before the attacker position\n",
    "evidence_loc = {inverted_nodes[e]: 1 for e in [5, 18]} # Root and admin(host)\n",
    "# The factor between two successives notes in the CWE tree\n",
    "factor = 0.9\n",
    "# We always start from the original probabilities of the CVEs\n",
    "BAG = BAG_ref.copy()\n",
    "\n",
    "# We modify the conditional probabilities according to the attacks that have been done\n",
    "change_prob(BAG, edges, nodes, cwe_dict, Gcwe, prop0, factor, evidence_loc)"
   ]
  },
  {
   "cell_type": "code",
   "execution_count": 8,
   "metadata": {},
   "outputs": [
    {
     "name": "stdout",
     "output_type": "stream",
     "text": [
      "('CVE-2022-26925', '10:RULE 0 (mitm attack is possible):0.2')\n"
     ]
    }
   ],
   "source": [
    "honey_pot = set()\n",
    "get_all_ancestors(BAG_ref, 1, honey_pot)\n",
    "src_node = set()\n",
    "for c_node in evidence_loc:\n",
    "    get_all_ancestors(BAG_ref, c_node, src_node)\n",
    "honey_pot = honey_pot - src_node\n",
    "honney_pot = [((BAG.get_cpds(h).values[-1][-1]-BAG_ref.get_cpds(h).values[-1][-1])/BAG_ref.get_cpds(h).values[-1][-1], nodes[h]['CVE'], nodes[h]['label']) for h in honey_pot if nodes[h]['CVE'] != \"null\"]\n",
    "print(min(honney_pot, key=lambda x: x[0])[1:3])"
   ]
  },
  {
   "cell_type": "code",
   "execution_count": 9,
   "metadata": {},
   "outputs": [
    {
     "name": "stdout",
     "output_type": "stream",
     "text": [
      "+------+----------+\n",
      "| 1    |   phi(1) |\n",
      "+======+==========+\n",
      "| 1(0) |   0.2185 |\n",
      "+------+----------+\n",
      "| 1(1) |   0.7815 |\n",
      "+------+----------+\n",
      "+------+----------+\n",
      "| 1    |   phi(1) |\n",
      "+======+==========+\n",
      "| 1(0) |   0.0708 |\n",
      "+------+----------+\n",
      "| 1(1) |   0.9292 |\n",
      "+------+----------+\n",
      "+------+----------+\n",
      "| 1    |   phi(1) |\n",
      "+======+==========+\n",
      "| 1(0) |   0.0488 |\n",
      "+------+----------+\n",
      "| 1(1) |   0.9512 |\n",
      "+------+----------+\n"
     ]
    }
   ],
   "source": [
    "#We use the pgmpy library to perform the inference\n",
    "prop = BeliefPropagation(BAG)\n",
    "\n",
    "cibles = [1]\n",
    "for cible in cibles:\n",
    "    print(prop0.query([inverted_nodes[cible]]))\n",
    "    print(prop0.query([inverted_nodes[cible]], evidence=evidence_loc))\n",
    "    print(prop.query([inverted_nodes[cible]], evidence=evidence_loc))"
   ]
  },
  {
   "cell_type": "code",
   "execution_count": 10,
   "metadata": {},
   "outputs": [],
   "source": [
    "# distance = nx.shortest_path_length(Gcwe, source='119', target='255')\n",
    "# print(\"Distance between nodes '1004' and '732':\", distance)\n",
    "\n",
    "# print(BAG.get_cpds(inverted_nodes[7]))\n",
    "# table = create_OR_table([0.1])\n",
    "# source = []\n",
    "# for edge in edges:\n",
    "#     if edge[1] == inverted_nodes[7]:\n",
    "#         source.append(edge[0])\n",
    "# npa = len(source)\n",
    "# BAG.add_cpds(TabularCPD(inverted_nodes[7], 2, table.T, source, evidence_card=2*np.ones(npa)))\n",
    "# print(BAG.get_cpds(inverted_nodes[7]))\n",
    "\n",
    "\n",
    "# output = open(output_file, 'w')\n",
    "# for node in nodes.items():\n",
    "#     output.write(f'{nodes[node[0]][\"label\"]} : {prop.query([node[0]])}\\n')"
   ]
  },
  {
   "cell_type": "code",
   "execution_count": 51,
   "metadata": {},
   "outputs": [
    {
     "name": "stdout",
     "output_type": "stream",
     "text": [
      "+--------+-----+\n",
      "| Imp(0) | 0.1 |\n",
      "+--------+-----+\n",
      "| Imp(1) | 0.9 |\n",
      "+--------+-----+\n",
      "+------+----------+\n",
      "| D    |   phi(D) |\n",
      "+======+==========+\n",
      "| D(0) |   0.3250 |\n",
      "+------+----------+\n",
      "| D(1) |   0.6750 |\n",
      "+------+----------+\n"
     ]
    }
   ],
   "source": [
    "from pgmpy.factors.discrete import TabularCPD\n",
    "from pgmpy.models import BayesianNetwork\n",
    "from pgmpy.inference import BeliefPropagation\n",
    "bayesian_model = BayesianNetwork([('A', 'B'), ('A', 'C'), ('B', 'D'), ('C', 'D'), ('Imp', 'B'), ('Imp', 'C'), ('PE', 'B'), ('MITM', 'C')])\n",
    "\n",
    "cpt_a =[[0.1], [0.9]]\n",
    "cpd_a = TabularCPD('A', 2, [[0], [1]])\n",
    "cpd_imp = TabularCPD('Imp', 2, cpt_a)\n",
    "cpd_pe = TabularCPD('PE', 2, [[0], [1]])\n",
    "cpd_mitm = TabularCPD('MITM', 2, [[0], [1]])\n",
    "cpt_b = create_AND_table([0.5, 1, 1])\n",
    "cpd_b = TabularCPD('B', 2, cpt_b.T, ['A', 'PE', 'Imp'], [2, 2, 2])\n",
    "cpt_c = create_AND_table([0.5, 1, 1])\n",
    "cpd_c = TabularCPD('C', 2, cpt_c.T, ['A', 'MITM', 'Imp'], [2, 2, 2])\n",
    "cpt_d = create_OR_table([1, 1])\n",
    "cpd_d = TabularCPD('D', 2, cpt_d.T, ['B', 'C'], [2, 2])\n",
    "\n",
    "bayesian_model.add_cpds(cpd_a, cpd_b, cpd_c, cpd_d, cpd_imp, cpd_pe, cpd_mitm)\n",
    "belief_propagation = BeliefPropagation(bayesian_model)\n",
    "print(bayesian_model.get_cpds('Imp'))\n",
    "print(belief_propagation.query(variables=['D'], show_progress=True))\n",
    "# print(belief_propagation.query(variables=['B'], evidence={'Imp' : 1}, show_progress=False))\n",
    "# bayesian_model = BayesianNetwork([('A', 'B'), ('B', 'C'), ('C', 'D')])\n",
    "# cpt_a = create_OR_table([])\n",
    "# cpd_a = TabularCPD('A', 2, cpt_a.T)\n",
    "# cpt_b = create_AND_table([0.1])\n",
    "# cpd_b = TabularCPD('B', 2, cpt_b.T, ['A'], [2])\n",
    "# cpt_c = create_AND_table([0.3])\n",
    "# cpd_c = TabularCPD('C', 2, cpt_c.T, ['B'], [2])\n",
    "# cpt_d = create_OR_table([0.2])\n",
    "# cpd_d = TabularCPD('D', 2, cpt_d.T, ['C'], [2])\n",
    "\n",
    "# bayesian_model.add_cpds(cpd_a, cpd_b, cpd_c, cpd_d)\n",
    "# belief_propagation = BeliefPropagation(bayesian_model)\n",
    "# print(bayesian_model.get_cpds('D'))\n",
    "# print(belief_propagation.query(variables=['B'], evidence={'D': 1}, show_progress=False))\n"
   ]
  },
  {
   "cell_type": "code",
   "execution_count": null,
   "metadata": {},
   "outputs": [
    {
     "ename": "ImportError",
     "evalue": "requires pygraphviz http://pygraphviz.github.io/",
     "output_type": "error",
     "traceback": [
      "\u001b[1;31m---------------------------------------------------------------------------\u001b[0m",
      "\u001b[1;31mModuleNotFoundError\u001b[0m                       Traceback (most recent call last)",
      "File \u001b[1;32mc:\\Users\\docuser\\AppData\\Local\\Programs\\Python\\Python312\\Lib\\site-packages\\networkx\\drawing\\nx_agraph.py:134\u001b[0m, in \u001b[0;36mto_agraph\u001b[1;34m(N)\u001b[0m\n\u001b[0;32m    133\u001b[0m \u001b[38;5;28;01mtry\u001b[39;00m:\n\u001b[1;32m--> 134\u001b[0m     \u001b[38;5;28;01mimport\u001b[39;00m \u001b[38;5;21;01mpygraphviz\u001b[39;00m\n\u001b[0;32m    135\u001b[0m \u001b[38;5;28;01mexcept\u001b[39;00m \u001b[38;5;167;01mImportError\u001b[39;00m \u001b[38;5;28;01mas\u001b[39;00m err:\n",
      "\u001b[1;31mModuleNotFoundError\u001b[0m: No module named 'pygraphviz'",
      "\nThe above exception was the direct cause of the following exception:\n",
      "\u001b[1;31mImportError\u001b[0m                               Traceback (most recent call last)",
      "Cell \u001b[1;32mIn[71], line 1\u001b[0m\n\u001b[1;32m----> 1\u001b[0m \u001b[43mBAG\u001b[49m\u001b[38;5;241;43m.\u001b[39;49m\u001b[43mto_graphviz\u001b[49m\u001b[43m(\u001b[49m\u001b[43m)\u001b[49m\n",
      "File \u001b[1;32mc:\\Users\\docuser\\AppData\\Local\\Programs\\Python\\Python312\\Lib\\site-packages\\pgmpy\\base\\DAG.py:1081\u001b[0m, in \u001b[0;36mDAG.to_graphviz\u001b[1;34m(self)\u001b[0m\n\u001b[0;32m   1069\u001b[0m \u001b[38;5;28;01mdef\u001b[39;00m \u001b[38;5;21mto_graphviz\u001b[39m(\u001b[38;5;28mself\u001b[39m):\n\u001b[0;32m   1070\u001b[0m \u001b[38;5;250m    \u001b[39m\u001b[38;5;124;03m\"\"\"\u001b[39;00m\n\u001b[0;32m   1071\u001b[0m \u001b[38;5;124;03m    Retuns a pygraphviz object for the DAG. pygraphviz is useful for\u001b[39;00m\n\u001b[0;32m   1072\u001b[0m \u001b[38;5;124;03m    visualizing the network structure.\u001b[39;00m\n\u001b[1;32m   (...)\u001b[0m\n\u001b[0;32m   1079\u001b[0m \u001b[38;5;124;03m    <AGraph <Swig Object of type 'Agraph_t *' at 0x7fdea4cde040>>\u001b[39;00m\n\u001b[0;32m   1080\u001b[0m \u001b[38;5;124;03m    \"\"\"\u001b[39;00m\n\u001b[1;32m-> 1081\u001b[0m     \u001b[38;5;28;01mreturn\u001b[39;00m \u001b[43mnx\u001b[49m\u001b[38;5;241;43m.\u001b[39;49m\u001b[43mnx_agraph\u001b[49m\u001b[38;5;241;43m.\u001b[39;49m\u001b[43mto_agraph\u001b[49m\u001b[43m(\u001b[49m\u001b[38;5;28;43mself\u001b[39;49m\u001b[43m)\u001b[49m\n",
      "File \u001b[1;32mc:\\Users\\docuser\\AppData\\Local\\Programs\\Python\\Python312\\Lib\\site-packages\\networkx\\drawing\\nx_agraph.py:136\u001b[0m, in \u001b[0;36mto_agraph\u001b[1;34m(N)\u001b[0m\n\u001b[0;32m    134\u001b[0m     \u001b[38;5;28;01mimport\u001b[39;00m \u001b[38;5;21;01mpygraphviz\u001b[39;00m\n\u001b[0;32m    135\u001b[0m \u001b[38;5;28;01mexcept\u001b[39;00m \u001b[38;5;167;01mImportError\u001b[39;00m \u001b[38;5;28;01mas\u001b[39;00m err:\n\u001b[1;32m--> 136\u001b[0m     \u001b[38;5;28;01mraise\u001b[39;00m \u001b[38;5;167;01mImportError\u001b[39;00m(\u001b[38;5;124m\"\u001b[39m\u001b[38;5;124mrequires pygraphviz http://pygraphviz.github.io/\u001b[39m\u001b[38;5;124m\"\u001b[39m) \u001b[38;5;28;01mfrom\u001b[39;00m \u001b[38;5;21;01merr\u001b[39;00m\n\u001b[0;32m    137\u001b[0m directed \u001b[38;5;241m=\u001b[39m N\u001b[38;5;241m.\u001b[39mis_directed()\n\u001b[0;32m    138\u001b[0m strict \u001b[38;5;241m=\u001b[39m nx\u001b[38;5;241m.\u001b[39mnumber_of_selfloops(N) \u001b[38;5;241m==\u001b[39m \u001b[38;5;241m0\u001b[39m \u001b[38;5;129;01mand\u001b[39;00m \u001b[38;5;129;01mnot\u001b[39;00m N\u001b[38;5;241m.\u001b[39mis_multigraph()\n",
      "\u001b[1;31mImportError\u001b[0m: requires pygraphviz http://pygraphviz.github.io/"
     ]
    }
   ],
   "source": [
    "BAG.to_graphviz()"
   ]
  }
 ],
 "metadata": {
  "kernelspec": {
   "display_name": "Python 3",
   "language": "python",
   "name": "python3"
  },
  "language_info": {
   "codemirror_mode": {
    "name": "ipython",
    "version": 3
   },
   "file_extension": ".py",
   "mimetype": "text/x-python",
   "name": "python",
   "nbconvert_exporter": "python",
   "pygments_lexer": "ipython3",
   "version": "3.12.3"
  }
 },
 "nbformat": 4,
 "nbformat_minor": 2
}
