{
 "cells": [
  {
   "cell_type": "markdown",
   "metadata": {},
   "source": [
    "## This Playbook is designed to calculate a bayesia inference on an attack graph \n",
    "Import the librairies and modules:"
   ]
  },
  {
   "cell_type": "code",
   "execution_count": 1,
   "metadata": {},
   "outputs": [],
   "source": [
    "import csv\n",
    "import re\n",
    "from pathlib import Path\n",
    "from BAG_Code.BayesianAttackGraph import parse_dot, rmv_node, evidences_to_string\n",
    "from BAG_Code.Tools_tree import kts_layer_original, kts_layer_static\n",
    "import BAG_Code.Loopy as Loopy\n",
    "\n",
    "from pgmpy.inference.ExactInference import BeliefPropagation"
   ]
  },
  {
   "cell_type": "markdown",
   "metadata": {},
   "source": [
    "To prepare the simulation we use the following parameters:"
   ]
  },
  {
   "cell_type": "code",
   "execution_count": 2,
   "metadata": {},
   "outputs": [],
   "source": [
    "# Name of the simulation\n",
    "simulation = \"HighLevel\"\n",
    "# simulation = \"HighLevel_no_HP\" # For static version without honeypots\n",
    "\n",
    "# Constante for probability one\n",
    "ONE = 0.999\n",
    "\n",
    "# Path to the folder containing the tree\n",
    "path = Path.cwd() / (\"Personnal_simulations/output_\" + simulation + \"/strongly_connected_components/\")\n",
    "file_name = \"ag-nocycles.dot\"\n",
    "path_to_dot = path / file_name\n",
    "basename = \"classic\"\n",
    "# basename = \"no_honey\" # For static version without honeypots"
   ]
  },
  {
   "cell_type": "markdown",
   "metadata": {},
   "source": [
    "The following function is used to draw the graph"
   ]
  },
  {
   "cell_type": "code",
   "execution_count": 3,
   "metadata": {},
   "outputs": [],
   "source": [
    "def to_dot(BAG, nodes, evidences, path, basename, display_kts=False, calculate_probabilities=1):\n",
    "    \"\"\"\n",
    "    Converts a Bayesian Network (BAG) to a DOT file format for visualization after calculating the Bayesian inference on it.\n",
    "\n",
    "    Args:\n",
    "        BAG (networkx.DiGraph): The Bayesian Network.\n",
    "        nodes (dict): A dictionary containing information about the nodes in the network.\n",
    "        evidences (list): A list of evidence nodes.\n",
    "        path (str): The path where the DOT file will be saved.\n",
    "        basename (str): The base name of the DOT file.\n",
    "        display_kts (bool, optional): Whether to display the nodes corresponding to the capabilities of the threat actor. Defaults to False.\n",
    "        calculate_probabilities (bool, optional): Whether to calculate probabilities or not and if yes, using 1 - exact inference or 2 - loopy propagation. Defaults to 1.\n",
    "\n",
    "    Returns:\n",
    "        None\n",
    "    \"\"\"\n",
    "    nodes_BAG = BAG.nodes()\n",
    "    evidences = {str(k): 1 for k in evidences}\n",
    "    dot = 'digraph G {\\nranksep=0.2;\\n'\n",
    "    regex_rule = r\"\\d+:RULE \\d+ \\((.*?)\\):\\d+\\.\\d+\"\n",
    "    regex_state = r\"\\d+:(.*?):\\d+\"\n",
    "    # Exact inference\n",
    "    if calculate_probabilities ==1:\n",
    "        nodes_wo_evidences = [n for n in nodes_BAG.keys() if n not in evidences.keys()]\n",
    "        nodes_1 = nodes_wo_evidences[:len(nodes_wo_evidences)//3]\n",
    "        nodes_2 = nodes_wo_evidences[len(nodes_wo_evidences)//3:(len(nodes_wo_evidences)*2)//3]\n",
    "        nodes_3 = nodes_wo_evidences[(len(nodes_wo_evidences)*2)//3:]\n",
    "        prop = BeliefPropagation(BAG)\n",
    "        total_prob1 = prop.query(nodes_1, evidence=evidences)\n",
    "        total_prob2 = prop.query(nodes_2, evidence=evidences)\n",
    "        total_prob3 = prop.query(nodes_3, evidence=evidences)\n",
    "    # Loopy propagation\n",
    "    if calculate_probabilities == 2:\n",
    "        marginals = Loopy.RunLBP(Loopy.CreateFactorGraph(Loopy.ToMarkov(BAG)), evidences)\n",
    "        marginals = list(marginals.values())[0]\n",
    "    # Return to general case\n",
    "    honeynodes = [str(n) for n in range(15,52)]\n",
    "    dynamic_nodes = [str(n) for n in [20, 21,26]]\n",
    "\n",
    "    def node_to_dot(node):\n",
    "        prob = 1\n",
    "        if node not in evidences.keys() and calculate_probabilities == 1:\n",
    "            if node in nodes_1:\n",
    "                prob = total_prob1.marginalize([n for n in nodes_1 if n != node], inplace=False).values[1]\n",
    "            elif node in nodes_2:\n",
    "                prob = total_prob2.marginalize([n for n in nodes_2 if n != node], inplace=False).values[1]\n",
    "            elif node in nodes_3:\n",
    "                prob = total_prob3.marginalize([n for n in nodes_3 if n != node], inplace=False).values[1]\n",
    "        elif calculate_probabilities == 2:\n",
    "            prob = marginals[node][1]\n",
    "        else:\n",
    "            prob = 1\n",
    "        probH = int(prob * 255)\n",
    "        color = '#' + format(probH, '02X') +''+ format(255-probH, '02X') + '00'\n",
    "        try:\n",
    "            CVE = nodes[node]['CVE']\n",
    "            shape = nodes[node]['shape']\n",
    "            LABEL = nodes[node]['label']\n",
    "        except:\n",
    "            CVE = ''\n",
    "            shape = ''\n",
    "            LABEL = ''\n",
    "        color = 'lightblue' if node in dynamic_nodes else 'blue' if node in honeynodes else color\n",
    "        prob = \"{:.4f}\".format(prob)\n",
    "        if CVE != 'null':\n",
    "            return f'  \\\"{node}\\\" [label=\\\"{node}\\\\n{CVE}\\\\n{prob}\\\", color=\\\"{color}\\\", penwidth=3, shape=\\\"{shape}\\\"];\\n'\n",
    "        else:\n",
    "            rule = re.search(regex_rule, LABEL)\n",
    "            state = re.search(regex_state, LABEL)\n",
    "            if rule:\n",
    "                return f'  \\\"{node}\\\" [label=\\\"{node}\\\\n{rule.group(1)}\\\\n{prob}\\\", color=\\\"{color}\\\", penwidth=3, shape=\\\"{shape}\\\"];\\n'\n",
    "            elif state:\n",
    "                return f'  \\\"{node}\\\" [label=\\\"{node}\\\\n{state.group(1)}\\\\n{prob}\\\", color=\\\"{color}\\\", penwidth=3, shape=\\\"{shape}\\\"];\\n'\n",
    "            else:\n",
    "                return f'  \\\"{node}\\\" [label=\"{node}\\\\n{LABEL}\\\\n{prob}\", color=\"{color}\", penwidth=3, shape=\"{shape}\"];\\n'\n",
    "            \n",
    "    # Display the nodes\n",
    "    if display_kts:\n",
    "        for node in BAG.nodes():\n",
    "            dot += node_to_dot(node)\n",
    "    else:\n",
    "        for node in nodes.keys():\n",
    "            dot += node_to_dot(node)\n",
    "    # Display the edges \n",
    "    for edge in BAG.edges():\n",
    "        if display_kts or edge[0] in nodes.keys():\n",
    "            dot += f'  \\\"{edge[0]}\\\" -> \\\"{edge[1]}\\\";\\n'\n",
    "    dot += '}' # End of the dot file\n",
    "    # Write the dot file\n",
    "    with open(path / (basename + evidences_to_string(evidences) + \".dot\"), 'w') as f:\n",
    "        f.write(dot)"
   ]
  },
  {
   "cell_type": "markdown",
   "metadata": {},
   "source": [
    "Next step is designed to read the graph from the dot file and add the "
   ]
  },
  {
   "cell_type": "code",
   "execution_count": 4,
   "metadata": {},
   "outputs": [],
   "source": [
    "# We all read from the file, adding probabilities in the same time\n",
    "BAG, edges, nodes = parse_dot(open(path_to_dot, 'r').read(), ONE)\n",
    "\n",
    "# This is the reference BAG, before the attacker has compromised any node\n",
    "BAG_ref = BAG.copy()\n",
    "prop0 = BeliefPropagation(BAG_ref)\n",
    "\n",
    "# We create a dictionary to get the node number from the label\n",
    "kts_layer_original(BAG, ONE, nodes)\n",
    "# kts_layer_static(BAG, ONE, nodes) # Static version without honeypots"
   ]
  },
  {
   "cell_type": "code",
   "execution_count": 5,
   "metadata": {},
   "outputs": [],
   "source": [
    "to_dot(BAG_ref, nodes, [], path, \"reference\", display_kts=False, calculate_probabilities=0)"
   ]
  },
  {
   "cell_type": "code",
   "execution_count": 8,
   "metadata": {},
   "outputs": [],
   "source": [
    "# In the case with honeypots\n",
    "evidences = [[],[9,7], [9], [9, 7, 19], [9, 7, 19, 17], [9, 7, 19, 17, 15]]\n",
    "for evidence in evidences:\n",
    "    to_dot(BAG, nodes, evidence, path, basename, display_kts=False, calculate_probabilities=1)"
   ]
  },
  {
   "cell_type": "code",
   "execution_count": null,
   "metadata": {},
   "outputs": [],
   "source": [
    "# In the case without honeypots\n",
    "evidences = [[], [9], [9, 7], [9, 7, 5], [9, 13, 5]]\n",
    "for evidence in evidences:\n",
    "    to_dot(BAG, nodes, evidence, path, basename, display_kts=False, calculate_probabilities=1)"
   ]
  }
 ],
 "metadata": {
  "kernelspec": {
   "display_name": "Python 3",
   "language": "python",
   "name": "python3"
  },
  "language_info": {
   "codemirror_mode": {
    "name": "ipython",
    "version": 3
   },
   "file_extension": ".py",
   "mimetype": "text/x-python",
   "name": "python",
   "nbconvert_exporter": "python",
   "pygments_lexer": "ipython3",
   "version": "3.12.3"
  }
 },
 "nbformat": 4,
 "nbformat_minor": 2
}
