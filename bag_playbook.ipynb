{
 "cells": [
  {
   "cell_type": "markdown",
   "metadata": {},
   "source": [
    "Import the librairies and modules:"
   ]
  },
  {
   "cell_type": "code",
   "execution_count": 78,
   "metadata": {},
   "outputs": [],
   "source": [
    "import networkx as nx\n",
    "import os\n",
    "import csv\n",
    "import re\n",
    "import numpy as np\n",
    "from BAG_Code_tw520.BayesianAttackGraphForCVSS import parse_dot\n",
    "from Threat_Inteligence.CWE_tree.parse import parse_xml\n",
    "from BAG_Code_tw520.BayesianAttackGraphForCVSS import change_prob\n",
    "from BAG_Code_tw520.createANDtable import create_AND_table\n",
    "from BAG_Code_tw520.createORtable import create_OR_table\n",
    "\n",
    "from pgmpy.inference.ExactInference import BeliefPropagation\n",
    "from pgmpy.models import BayesianNetwork\n",
    "from pgmpy.factors.discrete import TabularCPD"
   ]
  },
  {
   "cell_type": "markdown",
   "metadata": {},
   "source": [
    "To prepare the simulation use the following to put the graph in memory:"
   ]
  },
  {
   "cell_type": "code",
   "execution_count": 79,
   "metadata": {},
   "outputs": [],
   "source": [
    "def parse_dot(dot_string):\n",
    "    nodes = {}\n",
    "    edges = []\n",
    "\n",
    "    # Définir une expression régulière pour extraire les informations de chaque nœud\n",
    "    # node_pattern = re.compile(\"(\\d+)\")\n",
    "    node_pattern = re.compile(r'\\s+(\\d+)\\s+\\[\\s*label=\"([^\"]+)\"\\s+shape=\"([^\"]+)\"\\s+CVE=\"([^\"]+)\"\\s*\\];')\n",
    "\n",
    "    # Définir une expression régulière pour extraire les arêtes\n",
    "    edge_pattern = re.compile(r'\\s+(\\d+)\\s*->\\s*(\\d+)\\s+\\[\\s+color=\"[^\"]+\"\\s*\\];')\n",
    "\n",
    "    # Parcourir chaque ligne du texte\n",
    "    for line in dot_string.split('\\n'):\n",
    "        # Vérifier si la ligne correspond à un nœud\n",
    "        node_match = node_pattern.match(line)\n",
    "        # Vérifier si la ligne correspond à une arête\n",
    "        edge_match = edge_pattern.match(line)\n",
    "        if node_match:\n",
    "            node_id = int(node_match.group(1))\n",
    "            label = node_match.group(2)\n",
    "            shape = node_match.group(3)\n",
    "            node_type = 'AND' if shape == \"ellipse\" else 'OR'\n",
    "            cveID = node_match.group(4).strip(\"\\'\")\n",
    "            nodes[node_id] = {'label': label, 'type': node_type, 'CVE': cveID}\n",
    "        elif edge_match:\n",
    "            source = int(edge_match.group(1))\n",
    "            target = int(edge_match.group(2))\n",
    "            edges.append((source, target))\n",
    "    model = BayesianNetwork(edges)\n",
    "    # Read the probabilities for each CVE\n",
    "    cvss_dict = {}\n",
    "    with open('C:/Users/docuser/Documents/ImperialWork/Threat_Inteligence/epss_scores-2024-04-25.csv', mode='r') as csvfile:\n",
    "        reader = csv.DictReader(csvfile)\n",
    "        for row in reader:\n",
    "            cvss_dict[row['cve']] = row['epss']\n",
    "    for elem in nodes.items():\n",
    "        r = elem[1]['type'] == 'OR'\n",
    "        #We look for the source nodes\n",
    "        source = []\n",
    "        probs = []\n",
    "        for edge in edges:\n",
    "            if edge[1] == elem[0]:\n",
    "                source.append(edge[0])\n",
    "                if elem[1]['CVE'] == \"null\":\n",
    "                    # We use the probability associated to the rule if not null\n",
    "                    tmp = float(elem[1]['label'].split(':')[2])\n",
    "                    if tmp != 0:\n",
    "                        print(elem[1]['label'])\n",
    "                        probs.append(float(tmp))\n",
    "                    else: \n",
    "                        probs.append(0.9999999)\n",
    "                else:\n",
    "                    probs.append(float(cvss_dict[elem[1]['CVE']]))\n",
    "        npa = len(source)\n",
    "        #We draw the probability from the distribution of CVSS scores\n",
    "        if r:\n",
    "            cpt = create_OR_table(probs)\n",
    "        else:\n",
    "            cpt = create_AND_table(probs)\n",
    "        if npa:\n",
    "            cpd = TabularCPD(elem[0], 2, cpt.T, source, evidence_card=2*np.ones(npa))\n",
    "        else:\n",
    "            cpd = TabularCPD(elem[0], 2, cpt.T)\n",
    "        #Insert the conditional probability table into the Bayesian Network object\n",
    "        model.add_cpds(cpd)\n",
    "    return model, edges, nodes\n",
    "\n",
    "\n",
    "def change_prob(BAG, edges, nodes, cwe_dict, Gcwe, prop0, factor, evidence_loc):\n",
    "    src_node = set()\n",
    "    for c_node in evidence_loc:\n",
    "        src_node.update(get_all_ancestors(BAG, c_node))\n",
    "    dst_node = set(nodes) - src_node\n",
    "    for dst_n in dst_node:\n",
    "        dst_k = dst_n\n",
    "        dst_cve = nodes[dst_k]['CVE']\n",
    "        if dst_cve == \"null\":\n",
    "            continue\n",
    "        print(dst_cve)\n",
    "        dst_cwe = cwe_dict[dst_cve]\n",
    "        if dst_cwe != 'NVD-CWE-Other' and dst_cwe != \"NVD-CWE-noinfo\":\n",
    "            for e in edges:\n",
    "                if e[1] == dst_k:\n",
    "                    source = [e[0]]\n",
    "                    new_prob = BAG.get_cpds(dst_k).values[1][1]\n",
    "                    for s in src_node:\n",
    "                        src_k = s\n",
    "                        src_cve = nodes[src_k]['CVE']\n",
    "                        if src_cve == \"null\":\n",
    "                            continue\n",
    "                        src_cwe = cwe_dict[src_cve]\n",
    "                        if src_cwe != 'NVD-CWE-Other' and src_cwe != \"NVD-CWE-noinfo\":\n",
    "                            dist = nx.shortest_path_length(Gcwe, source=src_cwe.split('-')[1], target=dst_cwe.split('-')[1])\n",
    "                            print(\"CVE source : \" + nodes[src_k]['label'])\n",
    "                            tmp_prob = factor**(dist+1) * prop0.query([src_k],evidence=evidence_loc).values[1]\n",
    "                            print(222222222222222222222222222222)\n",
    "                            new_prob = tmp_prob + new_prob - new_prob*tmp_prob\n",
    "                    props = create_OR_table([new_prob])\n",
    "                    BAG.remove_cpds(dst_k)\n",
    "                    BAG.add_cpds(TabularCPD(dst_k, 2, props.T, source, evidence_card=2*np.ones(1)))\n",
    "\n",
    "def get_all_ancestors(BAG, node, ancestors=set()):\n",
    "    parents = BAG.get_parents(node)\n",
    "    ancestors.update(parents)\n",
    "    for p in parents:\n",
    "        get_all_ancestors(BAG, p, ancestors)\n",
    "    return ancestors\n"
   ]
  },
  {
   "cell_type": "code",
   "execution_count": 80,
   "metadata": {},
   "outputs": [
    {
     "name": "stdout",
     "output_type": "stream",
     "text": [
      "2:RULE 10 (permissions move):0.8\n",
      "2:RULE 10 (permissions move):0.8\n",
      "4:RULE 6 (valid credentials may be found):0.8\n",
      "24:RULE 3 (host may be vulnerable):0.2\n",
      "45:RULE 5 (low access is possible):0.8\n"
     ]
    }
   ],
   "source": [
    "# Name of the simulation\n",
    "simulation = \"OCD_pentest\"\n",
    "\n",
    "# Path to the folder containing the tree\n",
    "path = \"C:/Users/docuser/Documents/ImperialWork/Personnal_simulations/output_\" + simulation + \"/strongly_connected_components/\"\n",
    "file_name = \"ag-nocycles.dot\"\n",
    "path_to_dot = path + file_name\n",
    "output_file = path + file_name[:-4] + \"_inference.txt\"\n",
    "\n",
    "# We all read from the file, adding probabilities in the same time\n",
    "BAG, edges, nodes = parse_dot(open(path_to_dot, 'r').read())\n",
    "\n",
    "# This is the reference BAG, before the attacker has compromised any node\n",
    "BAG_ref = BAG.copy()\n",
    "prop0 = BeliefPropagation(BAG_ref)\n",
    "\n",
    "# We create a dictionary to get the node number from the label\n",
    "inverted_nodes = {int(v['label'].split(':')[0]): k for k, v in nodes.items()}"
   ]
  },
  {
   "cell_type": "code",
   "execution_count": 81,
   "metadata": {},
   "outputs": [
    {
     "name": "stdout",
     "output_type": "stream",
     "text": [
      "+-------+-------+---------+\n",
      "| 16    | 16(0) | 16(1)   |\n",
      "+-------+-------+---------+\n",
      "| 15(0) | 1.0   | 0.88408 |\n",
      "+-------+-------+---------+\n",
      "| 15(1) | 0.0   | 0.11592 |\n",
      "+-------+-------+---------+\n"
     ]
    }
   ],
   "source": [
    "print(BAG.get_cpds(15))"
   ]
  },
  {
   "cell_type": "code",
   "execution_count": 82,
   "metadata": {},
   "outputs": [
    {
     "name": "stderr",
     "output_type": "stream",
     "text": [
      "WARNING:pgmpy:Replacing existing CPD for 15\n",
      "WARNING:pgmpy:Replacing existing CPD for 18\n",
      "WARNING:pgmpy:Replacing existing CPD for 20\n",
      "WARNING:pgmpy:Replacing existing CPD for 24\n",
      "WARNING:pgmpy:Replacing existing CPD for 14\n"
     ]
    },
    {
     "name": "stdout",
     "output_type": "stream",
     "text": [
      "The variable Metasploit already exists in the BAG\n",
      "+-------+-------+-------+-------+-----+-------+-------+-------+-------+\n",
      "| 15    | 15(0) | 15(0) | 15(0) | ... | 15(1) | 15(1) | 15(1) | 15(1) |\n",
      "+-------+-------+-------+-------+-----+-------+-------+-------+-------+\n",
      "| 18    | 18(0) | 18(0) | 18(0) | ... | 18(1) | 18(1) | 18(1) | 18(1) |\n",
      "+-------+-------+-------+-------+-----+-------+-------+-------+-------+\n",
      "| 20    | 20(0) | 20(0) | 20(1) | ... | 20(0) | 20(0) | 20(1) | 20(1) |\n",
      "+-------+-------+-------+-------+-----+-------+-------+-------+-------+\n",
      "| 24    | 24(0) | 24(1) | 24(0) | ... | 24(0) | 24(1) | 24(0) | 24(1) |\n",
      "+-------+-------+-------+-------+-----+-------+-------+-------+-------+\n",
      "| 14(0) | 1.0   | 0.0   | 0.0   | ... | 0.0   | 0.0   | 0.0   | 0.0   |\n",
      "+-------+-------+-------+-------+-----+-------+-------+-------+-------+\n",
      "| 14(1) | 0.0   | 1.0   | 1.0   | ... | 1.0   | 1.0   | 1.0   | 1.0   |\n",
      "+-------+-------+-------+-------+-----+-------+-------+-------+-------+\n",
      "+---------+---+\n",
      "| MITM(0) | 0 |\n",
      "+---------+---+\n",
      "| MITM(1) | 1 |\n",
      "+---------+---+\n"
     ]
    },
    {
     "name": "stderr",
     "output_type": "stream",
     "text": [
      "c:\\Users\\docuser\\AppData\\Local\\Programs\\Python\\Python312\\Lib\\site-packages\\pgmpy\\factors\\discrete\\DiscreteFactor.py:796: RuntimeWarning: invalid value encountered in divide\n",
      "  phi.values = phi.values / phi1.values\n"
     ]
    },
    {
     "name": "stdout",
     "output_type": "stream",
     "text": [
      "+-------+-----------+\n",
      "| 14    |   phi(14) |\n",
      "+=======+===========+\n",
      "| 14(0) |    0.6019 |\n",
      "+-------+-----------+\n",
      "| 14(1) |    0.3981 |\n",
      "+-------+-----------+\n",
      "+-------+-----------+\n",
      "| 15    |   phi(15) |\n",
      "+=======+===========+\n",
      "| 15(0) |    0.9500 |\n",
      "+-------+-----------+\n",
      "| 15(1) |    0.0500 |\n",
      "+-------+-----------+\n",
      "+-------+-----------+\n",
      "| 18    |   phi(18) |\n",
      "+=======+===========+\n",
      "| 18(0) |    0.9750 |\n",
      "+-------+-----------+\n",
      "| 18(1) |    0.0250 |\n",
      "+-------+-----------+\n",
      "+-------+-----------+\n",
      "| 20    |   phi(20) |\n",
      "+=======+===========+\n",
      "| 20(0) |    0.9181 |\n",
      "+-------+-----------+\n",
      "| 20(1) |    0.0819 |\n",
      "+-------+-----------+\n",
      "+-------+-----------+\n",
      "| 24    |   phi(24) |\n",
      "+=======+===========+\n",
      "| 24(0) |    0.6724 |\n",
      "+-------+-----------+\n",
      "| 24(1) |    0.3276 |\n",
      "+-------+-----------+\n",
      "+-------+-----------+\n",
      "| 14    |   phi(14) |\n",
      "+=======+===========+\n",
      "| 14(0) |    0.1601 |\n",
      "+-------+-----------+\n",
      "| 14(1) |    0.8399 |\n",
      "+-------+-----------+\n"
     ]
    }
   ],
   "source": [
    "# The skills layer:\n",
    "cpd_ALskills = TabularCPD('ALskills', 2, [[0], [1]])\n",
    "cpd_AHskills = TabularCPD('AHskills', 2, [[1], [0]])\n",
    "cpd_0skills = TabularCPD('0skills', 2, [[0.5], [0.5]])\n",
    "BAG.add_edge('ALskills', 'Lskills')\n",
    "BAG.add_edge('ALskills', 'Hskills')\n",
    "BAG.add_edge('AHskills', 'Hskills')\n",
    "BAG.add_edge('Hskills', 'Lskills')\n",
    "cpd_Lskills = TabularCPD('Lskills', 2, create_OR_table([0.9, 1]).T, ['ALskills', 'Hskills'], evidence_card=2*np.ones(2))\n",
    "cpd_Hskills = TabularCPD('Hskills', 2, create_OR_table([0.1, 0.9]).T, ['ALskills', 'AHskills'], evidence_card=2*np.ones(2))\n",
    "\n",
    "# The tools layer:\n",
    "cpd_Aimpacket = TabularCPD('Aimpacket', 2, [[0], [1]])\n",
    "cpd_Aimpacketplus = TabularCPD('Aimpacket+', 2, [[1], [0]])\n",
    "BAG.add_edge('Aimpacket', 'impacket+')\n",
    "BAG.add_edge('Aimpacket', 'impacket')\n",
    "BAG.add_edge('Aimpacket+', 'impacket+')\n",
    "BAG.add_edge('impacket+', 'impacket')\n",
    "cpd_impacket = TabularCPD('impacket', 2, create_OR_table([1, 1]).T, ['Aimpacket', 'impacket+'], evidence_card=2*np.ones(2))\n",
    "cpd_impacketplus = TabularCPD('impacket+', 2, create_OR_table([0.9, 1]).T, ['Aimpacket', 'Aimpacket+'], evidence_card=2*np.ones(2))\n",
    "cpd_tools = [TabularCPD(tool, 2, [[0.5], [0.5]]) for tool in ['Metasploit', 'Responder', 'dnscmd.exe', 'certipy']]\n",
    "\n",
    "\n",
    "# The knowledge layer:\n",
    "cpd_known_vuln = TabularCPD('Known vulnerabilities', 2, [[0.5], [0.5]])\n",
    "cpd_cqcm = TabularCPD('CQCM', 2, [[0.5], [0.5]])\n",
    "cpd_mitm = TabularCPD('MITM', 2, [[0], [1]])\n",
    "\n",
    "cpt_15 = create_AND_table([1, 1, 1, 1])\n",
    "\n",
    "# Report sur MS08-M68\n",
    "BAG.add_edge('Metasploit', 15)\n",
    "BAG.add_edge('0skills', 15)\n",
    "BAG.add_edge('MITM', 15)\n",
    "newlist = BAG.get_parents(15)\n",
    "BAG.add_cpds(TabularCPD(15, 2, cpt_15.T, newlist , evidence_card=2*np.ones(len(newlist))))\n",
    "# Report sur CVE-2014-1812\n",
    "BAG.add_edge('Metasploit', 18)\n",
    "BAG.add_edge('0skills', 18)\n",
    "BAG.add_edge('CQCM', 18)\n",
    "newlist = BAG.get_parents(18)\n",
    "BAG.add_cpds(TabularCPD(18, 2, cpt_15.T, newlist, evidence_card=2*np.ones(len(newlist))))\n",
    "# Report sur CVE-2020-1472\n",
    "BAG.add_edge('impacket+', 20)\n",
    "BAG.add_edge('Lskills', 20)\n",
    "BAG.add_edge('CQCM', 20)\n",
    "newlist = BAG.get_parents(20)\n",
    "BAG.add_cpds(TabularCPD(20, 2, cpt_15.T, newlist, evidence_card=2*np.ones(len(newlist))))\n",
    "# Report sur CVE-2021-1675\n",
    "BAG.add_edge('impacket+', 24)\n",
    "BAG.add_edge('Lskills', 24)\n",
    "BAG.add_edge('Known vulnerabilities', 24)\n",
    "newlist = BAG.get_parents(24)\n",
    "BAG.add_cpds(TabularCPD(24, 2, cpt_15.T, newlist, evidence_card=2*np.ones(len(newlist))))\n",
    "\n",
    "\n",
    "BAG.add_cpds(cpd_mitm, cpd_0skills, cpd_cqcm, cpd_impacketplus, cpd_Lskills, cpd_known_vuln, cpd_ALskills, cpd_AHskills, cpd_Hskills, cpd_Aimpacket, cpd_Aimpacketplus, cpd_impacket)\n",
    "for tool_cpd in cpd_tools:\n",
    "    if BAG.__contains__(tool_cpd.variable):\n",
    "        BAG.add_cpds(tool_cpd)\n",
    "\n",
    "BAG.remove_node(19)\n",
    "BAG.remove_node(21)\n",
    "BAG.remove_node(22)\n",
    "BAG.remove_node(23)\n",
    "BAG.remove_node(25)\n",
    "BAG.remove_node(26)\n",
    "cpt_14 = create_OR_table([1, 1, 1, 1])\n",
    "BAG.add_cpds(TabularCPD(14, 2, cpt_14.T, [15, 18, 20, 24], evidence_card=2*np.ones(4)))\n",
    "print(BAG.get_cpds(14))\n",
    "print(BAG.get_cpds('MITM'))\n",
    "prop = BeliefPropagation(BAG)\n",
    "tmp = 14\n",
    "print(prop.query([tmp]))\n",
    "print(prop.query([15]))\n",
    "print(prop.query([18]))\n",
    "print(prop.query([20]))\n",
    "print(prop.query([24]))\n",
    "print(prop0.query([tmp]))"
   ]
  },
  {
   "cell_type": "markdown",
   "metadata": {},
   "source": [
    "## When the attacker become dcsync and we want to recalculate for domain admin\n",
    "src_node = [7, 10]\n",
    "dst_node = [ 14, 16, 12, 2]"
   ]
  },
  {
   "cell_type": "code",
   "execution_count": null,
   "metadata": {},
   "outputs": [],
   "source": [
    "\n",
    "\n"
   ]
  },
  {
   "cell_type": "code",
   "execution_count": 83,
   "metadata": {},
   "outputs": [
    {
     "ename": "NameError",
     "evalue": "name 'evidence_loc' is not defined",
     "output_type": "error",
     "traceback": [
      "\u001b[1;31m---------------------------------------------------------------------------\u001b[0m",
      "\u001b[1;31mNameError\u001b[0m                                 Traceback (most recent call last)",
      "Cell \u001b[1;32mIn[83], line 4\u001b[0m\n\u001b[0;32m      2\u001b[0m get_all_ancestors(BAG_ref, \u001b[38;5;241m1\u001b[39m, honey_pot)\n\u001b[0;32m      3\u001b[0m src_node \u001b[38;5;241m=\u001b[39m \u001b[38;5;28mset\u001b[39m()\n\u001b[1;32m----> 4\u001b[0m \u001b[38;5;28;01mfor\u001b[39;00m c_node \u001b[38;5;129;01min\u001b[39;00m \u001b[43mevidence_loc\u001b[49m:\n\u001b[0;32m      5\u001b[0m     get_all_ancestors(BAG_ref, c_node, src_node)\n\u001b[0;32m      6\u001b[0m honey_pot \u001b[38;5;241m=\u001b[39m honey_pot \u001b[38;5;241m-\u001b[39m src_node\n",
      "\u001b[1;31mNameError\u001b[0m: name 'evidence_loc' is not defined"
     ]
    }
   ],
   "source": [
    "honey_pot = set()\n",
    "get_all_ancestors(BAG_ref, 1, honey_pot)\n",
    "src_node = set()\n",
    "for c_node in evidence_loc:\n",
    "    get_all_ancestors(BAG_ref, c_node, src_node)\n",
    "honey_pot = honey_pot - src_node\n",
    "honney_pot = [((BAG.get_cpds(h).values[-1][-1]-BAG_ref.get_cpds(h).values[-1][-1])/BAG_ref.get_cpds(h).values[-1][-1], nodes[h]['CVE'], nodes[h]['label']) for h in honey_pot if nodes[h]['CVE'] != \"null\"]\n",
    "print(min(honney_pot, key=lambda x: x[0])[1:3])"
   ]
  },
  {
   "cell_type": "code",
   "execution_count": null,
   "metadata": {},
   "outputs": [
    {
     "name": "stdout",
     "output_type": "stream",
     "text": [
      "+------+----------+\n",
      "| 1    |   phi(1) |\n",
      "+======+==========+\n",
      "| 1(0) |   0.2185 |\n",
      "+------+----------+\n",
      "| 1(1) |   0.7815 |\n",
      "+------+----------+\n",
      "+------+----------+\n",
      "| 1    |   phi(1) |\n",
      "+======+==========+\n",
      "| 1(0) |   0.0708 |\n",
      "+------+----------+\n",
      "| 1(1) |   0.9292 |\n",
      "+------+----------+\n",
      "+------+----------+\n",
      "| 1    |   phi(1) |\n",
      "+======+==========+\n",
      "| 1(0) |   0.0488 |\n",
      "+------+----------+\n",
      "| 1(1) |   0.9512 |\n",
      "+------+----------+\n"
     ]
    }
   ],
   "source": [
    "#We use the pgmpy library to perform the inference\n",
    "prop = BeliefPropagation(BAG)\n",
    "\n",
    "cibles = [1]\n",
    "for cible in cibles:\n",
    "    print(prop0.query([inverted_nodes[cible]]))\n",
    "    print(prop0.query([inverted_nodes[cible]], evidence=evidence_loc))\n",
    "    print(prop.query([inverted_nodes[cible]], evidence=evidence_loc))"
   ]
  },
  {
   "cell_type": "code",
   "execution_count": null,
   "metadata": {},
   "outputs": [],
   "source": [
    "# distance = nx.shortest_path_length(Gcwe, source='119', target='255')\n",
    "# print(\"Distance between nodes '1004' and '732':\", distance)\n",
    "\n",
    "# print(BAG.get_cpds(inverted_nodes[7]))\n",
    "# table = create_OR_table([0.1])\n",
    "# source = []\n",
    "# for edge in edges:\n",
    "#     if edge[1] == inverted_nodes[7]:\n",
    "#         source.append(edge[0])\n",
    "# npa = len(source)\n",
    "# BAG.add_cpds(TabularCPD(inverted_nodes[7], 2, table.T, source, evidence_card=2*np.ones(npa)))\n",
    "# print(BAG.get_cpds(inverted_nodes[7]))\n",
    "\n",
    "\n",
    "# output = open(output_file, 'w')\n",
    "# for node in nodes.items():\n",
    "#     output.write(f'{nodes[node[0]][\"label\"]} : {prop.query([node[0]])}\\n')"
   ]
  },
  {
   "cell_type": "code",
   "execution_count": null,
   "metadata": {},
   "outputs": [
    {
     "name": "stdout",
     "output_type": "stream",
     "text": [
      "+--------+-----+\n",
      "| Imp(0) | 0.1 |\n",
      "+--------+-----+\n",
      "| Imp(1) | 0.9 |\n",
      "+--------+-----+\n",
      "+------+----------+\n",
      "| D    |   phi(D) |\n",
      "+======+==========+\n",
      "| D(0) |   0.3250 |\n",
      "+------+----------+\n",
      "| D(1) |   0.6750 |\n",
      "+------+----------+\n"
     ]
    }
   ],
   "source": [
    "from pgmpy.factors.discrete import TabularCPD\n",
    "from pgmpy.models import BayesianNetwork\n",
    "from pgmpy.inference import BeliefPropagation\n",
    "bayesian_model = BayesianNetwork([('A', 'B'), ('A', 'C'), ('B', 'D'), ('C', 'D'), ('Imp', 'B'), ('Imp', 'C'), ('PE', 'B'), ('MITM', 'C')])\n",
    "\n",
    "cpt_a =[[0.1], [0.9]]\n",
    "cpd_a = TabularCPD('A', 2, [[0], [1]])\n",
    "cpd_imp = TabularCPD('Imp', 2, cpt_a)\n",
    "cpd_pe = TabularCPD('PE', 2, [[0], [1]])\n",
    "cpd_mitm = TabularCPD('MITM', 2, [[0], [1]])\n",
    "cpt_b = create_AND_table([0.5, 1, 1])\n",
    "cpd_b = TabularCPD('B', 2, cpt_b.T, ['A', 'PE', 'Imp'], [2, 2, 2])\n",
    "cpt_c = create_AND_table([0.5, 1, 1])\n",
    "cpd_c = TabularCPD('C', 2, cpt_c.T, ['A', 'MITM', 'Imp'], [2, 2, 2])\n",
    "cpt_d = create_OR_table([1, 1])\n",
    "cpd_d = TabularCPD('D', 2, cpt_d.T, ['B', 'C'], [2, 2])\n",
    "\n",
    "bayesian_model.add_cpds(cpd_a, cpd_b, cpd_c, cpd_d, cpd_imp, cpd_pe, cpd_mitm)\n",
    "belief_propagation = BeliefPropagation(bayesian_model)\n",
    "print(bayesian_model.get_cpds('Imp'))\n",
    "print(belief_propagation.query(variables=['D'], show_progress=True))\n",
    "\n",
    "nx.drawing.nx_pydot.write_dot(bayesian_model, 'bayesian_model.dot')\n"
   ]
  },
  {
   "cell_type": "code",
   "execution_count": null,
   "metadata": {},
   "outputs": [
    {
     "ename": "StopIteration",
     "evalue": "",
     "output_type": "error",
     "traceback": [
      "\u001b[1;31m---------------------------------------------------------------------------\u001b[0m",
      "\u001b[1;31mStopIteration\u001b[0m                             Traceback (most recent call last)",
      "Cell \u001b[1;32mIn[14], line 1\u001b[0m\n\u001b[1;32m----> 1\u001b[0m \u001b[43mnx\u001b[49m\u001b[38;5;241;43m.\u001b[39;49m\u001b[43mdraw\u001b[49m\u001b[43m(\u001b[49m\u001b[43mBAG\u001b[49m\u001b[43m,\u001b[49m\u001b[43m \u001b[49m\u001b[43mwith_labels\u001b[49m\u001b[38;5;241;43m=\u001b[39;49m\u001b[38;5;28;43;01mTrue\u001b[39;49;00m\u001b[43m)\u001b[49m\n\u001b[0;32m      2\u001b[0m \u001b[38;5;66;03m# BAG.to_graphviz()\u001b[39;00m\n",
      "File \u001b[1;32mc:\\Users\\docuser\\AppData\\Local\\Programs\\Python\\Python312\\Lib\\site-packages\\networkx\\drawing\\nx_pylab.py:123\u001b[0m, in \u001b[0;36mdraw\u001b[1;34m(G, pos, ax, **kwds)\u001b[0m\n\u001b[0;32m    120\u001b[0m \u001b[38;5;28;01mif\u001b[39;00m \u001b[38;5;124m\"\u001b[39m\u001b[38;5;124mwith_labels\u001b[39m\u001b[38;5;124m\"\u001b[39m \u001b[38;5;129;01mnot\u001b[39;00m \u001b[38;5;129;01min\u001b[39;00m kwds:\n\u001b[0;32m    121\u001b[0m     kwds[\u001b[38;5;124m\"\u001b[39m\u001b[38;5;124mwith_labels\u001b[39m\u001b[38;5;124m\"\u001b[39m] \u001b[38;5;241m=\u001b[39m \u001b[38;5;124m\"\u001b[39m\u001b[38;5;124mlabels\u001b[39m\u001b[38;5;124m\"\u001b[39m \u001b[38;5;129;01min\u001b[39;00m kwds\n\u001b[1;32m--> 123\u001b[0m \u001b[43mdraw_networkx\u001b[49m\u001b[43m(\u001b[49m\u001b[43mG\u001b[49m\u001b[43m,\u001b[49m\u001b[43m \u001b[49m\u001b[43mpos\u001b[49m\u001b[38;5;241;43m=\u001b[39;49m\u001b[43mpos\u001b[49m\u001b[43m,\u001b[49m\u001b[43m \u001b[49m\u001b[43max\u001b[49m\u001b[38;5;241;43m=\u001b[39;49m\u001b[43max\u001b[49m\u001b[43m,\u001b[49m\u001b[43m \u001b[49m\u001b[38;5;241;43m*\u001b[39;49m\u001b[38;5;241;43m*\u001b[39;49m\u001b[43mkwds\u001b[49m\u001b[43m)\u001b[49m\n\u001b[0;32m    124\u001b[0m ax\u001b[38;5;241m.\u001b[39mset_axis_off()\n\u001b[0;32m    125\u001b[0m plt\u001b[38;5;241m.\u001b[39mdraw_if_interactive()\n",
      "File \u001b[1;32mc:\\Users\\docuser\\AppData\\Local\\Programs\\Python\\Python312\\Lib\\site-packages\\networkx\\drawing\\nx_pylab.py:312\u001b[0m, in \u001b[0;36mdraw_networkx\u001b[1;34m(G, pos, arrows, with_labels, **kwds)\u001b[0m\n\u001b[0;32m    309\u001b[0m     pos \u001b[38;5;241m=\u001b[39m nx\u001b[38;5;241m.\u001b[39mdrawing\u001b[38;5;241m.\u001b[39mspring_layout(G)  \u001b[38;5;66;03m# default to spring layout\u001b[39;00m\n\u001b[0;32m    311\u001b[0m draw_networkx_nodes(G, pos, \u001b[38;5;241m*\u001b[39m\u001b[38;5;241m*\u001b[39mnode_kwds)\n\u001b[1;32m--> 312\u001b[0m \u001b[43mdraw_networkx_edges\u001b[49m\u001b[43m(\u001b[49m\u001b[43mG\u001b[49m\u001b[43m,\u001b[49m\u001b[43m \u001b[49m\u001b[43mpos\u001b[49m\u001b[43m,\u001b[49m\u001b[43m \u001b[49m\u001b[43marrows\u001b[49m\u001b[38;5;241;43m=\u001b[39;49m\u001b[43marrows\u001b[49m\u001b[43m,\u001b[49m\u001b[43m \u001b[49m\u001b[38;5;241;43m*\u001b[39;49m\u001b[38;5;241;43m*\u001b[39;49m\u001b[43medge_kwds\u001b[49m\u001b[43m)\u001b[49m\n\u001b[0;32m    313\u001b[0m \u001b[38;5;28;01mif\u001b[39;00m with_labels:\n\u001b[0;32m    314\u001b[0m     draw_networkx_labels(G, pos, \u001b[38;5;241m*\u001b[39m\u001b[38;5;241m*\u001b[39mlabel_kwds)\n",
      "File \u001b[1;32mc:\\Users\\docuser\\AppData\\Local\\Programs\\Python\\Python312\\Lib\\site-packages\\networkx\\drawing\\nx_pylab.py:1026\u001b[0m, in \u001b[0;36mdraw_networkx_edges\u001b[1;34m(G, pos, edgelist, width, edge_color, style, alpha, arrowstyle, arrowsize, edge_cmap, edge_vmin, edge_vmax, ax, arrows, label, node_size, nodelist, node_shape, connectionstyle, min_source_margin, min_target_margin, hide_ticks)\u001b[0m\n\u001b[0;32m   1024\u001b[0m     \u001b[38;5;28;01mfor\u001b[39;00m i \u001b[38;5;129;01min\u001b[39;00m \u001b[38;5;28mrange\u001b[39m(\u001b[38;5;28mlen\u001b[39m(edgelist)):\n\u001b[0;32m   1025\u001b[0m         arrow \u001b[38;5;241m=\u001b[39m fancy_arrow_factory(i)\n\u001b[1;32m-> 1026\u001b[0m         \u001b[43max\u001b[49m\u001b[38;5;241;43m.\u001b[39;49m\u001b[43madd_patch\u001b[49m\u001b[43m(\u001b[49m\u001b[43marrow\u001b[49m\u001b[43m)\u001b[49m\n\u001b[0;32m   1027\u001b[0m         edge_viz_obj\u001b[38;5;241m.\u001b[39mappend(arrow)\n\u001b[0;32m   1029\u001b[0m \u001b[38;5;66;03m# update view after drawing\u001b[39;00m\n",
      "File \u001b[1;32mc:\\Users\\docuser\\AppData\\Local\\Programs\\Python\\Python312\\Lib\\site-packages\\matplotlib\\axes\\_base.py:2384\u001b[0m, in \u001b[0;36m_AxesBase.add_patch\u001b[1;34m(self, p)\u001b[0m\n\u001b[0;32m   2382\u001b[0m \u001b[38;5;28;01mif\u001b[39;00m p\u001b[38;5;241m.\u001b[39mget_clip_path() \u001b[38;5;129;01mis\u001b[39;00m \u001b[38;5;28;01mNone\u001b[39;00m:\n\u001b[0;32m   2383\u001b[0m     p\u001b[38;5;241m.\u001b[39mset_clip_path(\u001b[38;5;28mself\u001b[39m\u001b[38;5;241m.\u001b[39mpatch)\n\u001b[1;32m-> 2384\u001b[0m \u001b[38;5;28;43mself\u001b[39;49m\u001b[38;5;241;43m.\u001b[39;49m\u001b[43m_update_patch_limits\u001b[49m\u001b[43m(\u001b[49m\u001b[43mp\u001b[49m\u001b[43m)\u001b[49m\n\u001b[0;32m   2385\u001b[0m \u001b[38;5;28mself\u001b[39m\u001b[38;5;241m.\u001b[39m_children\u001b[38;5;241m.\u001b[39mappend(p)\n\u001b[0;32m   2386\u001b[0m p\u001b[38;5;241m.\u001b[39m_remove_method \u001b[38;5;241m=\u001b[39m \u001b[38;5;28mself\u001b[39m\u001b[38;5;241m.\u001b[39m_children\u001b[38;5;241m.\u001b[39mremove\n",
      "File \u001b[1;32mc:\\Users\\docuser\\AppData\\Local\\Programs\\Python\\Python312\\Lib\\site-packages\\matplotlib\\axes\\_base.py:2402\u001b[0m, in \u001b[0;36m_AxesBase._update_patch_limits\u001b[1;34m(self, patch)\u001b[0m\n\u001b[0;32m   2399\u001b[0m \u001b[38;5;28;01mif\u001b[39;00m (\u001b[38;5;28misinstance\u001b[39m(patch, mpatches\u001b[38;5;241m.\u001b[39mRectangle) \u001b[38;5;129;01mand\u001b[39;00m\n\u001b[0;32m   2400\u001b[0m         ((\u001b[38;5;129;01mnot\u001b[39;00m patch\u001b[38;5;241m.\u001b[39mget_width()) \u001b[38;5;129;01mand\u001b[39;00m (\u001b[38;5;129;01mnot\u001b[39;00m patch\u001b[38;5;241m.\u001b[39mget_height()))):\n\u001b[0;32m   2401\u001b[0m     \u001b[38;5;28;01mreturn\u001b[39;00m\n\u001b[1;32m-> 2402\u001b[0m p \u001b[38;5;241m=\u001b[39m \u001b[43mpatch\u001b[49m\u001b[38;5;241;43m.\u001b[39;49m\u001b[43mget_path\u001b[49m\u001b[43m(\u001b[49m\u001b[43m)\u001b[49m\n\u001b[0;32m   2403\u001b[0m \u001b[38;5;66;03m# Get all vertices on the path\u001b[39;00m\n\u001b[0;32m   2404\u001b[0m \u001b[38;5;66;03m# Loop through each segment to get extrema for Bezier curve sections\u001b[39;00m\n\u001b[0;32m   2405\u001b[0m vertices \u001b[38;5;241m=\u001b[39m []\n",
      "File \u001b[1;32mc:\\Users\\docuser\\AppData\\Local\\Programs\\Python\\Python312\\Lib\\site-packages\\matplotlib\\patches.py:4342\u001b[0m, in \u001b[0;36mFancyArrowPatch.get_path\u001b[1;34m(self)\u001b[0m\n\u001b[0;32m   4339\u001b[0m \u001b[38;5;250m\u001b[39m\u001b[38;5;124;03m\"\"\"Return the path of the arrow in the data coordinates.\"\"\"\u001b[39;00m\n\u001b[0;32m   4340\u001b[0m \u001b[38;5;66;03m# The path is generated in display coordinates, then converted back to\u001b[39;00m\n\u001b[0;32m   4341\u001b[0m \u001b[38;5;66;03m# data coordinates.\u001b[39;00m\n\u001b[1;32m-> 4342\u001b[0m _path, fillable \u001b[38;5;241m=\u001b[39m \u001b[38;5;28;43mself\u001b[39;49m\u001b[38;5;241;43m.\u001b[39;49m\u001b[43m_get_path_in_displaycoord\u001b[49m\u001b[43m(\u001b[49m\u001b[43m)\u001b[49m\n\u001b[0;32m   4343\u001b[0m \u001b[38;5;28;01mif\u001b[39;00m np\u001b[38;5;241m.\u001b[39miterable(fillable):\n\u001b[0;32m   4344\u001b[0m     _path \u001b[38;5;241m=\u001b[39m Path\u001b[38;5;241m.\u001b[39mmake_compound_path(\u001b[38;5;241m*\u001b[39m_path)\n",
      "File \u001b[1;32mc:\\Users\\docuser\\AppData\\Local\\Programs\\Python\\Python312\\Lib\\site-packages\\matplotlib\\patches.py:4355\u001b[0m, in \u001b[0;36mFancyArrowPatch._get_path_in_displaycoord\u001b[1;34m(self)\u001b[0m\n\u001b[0;32m   4353\u001b[0m     posB \u001b[38;5;241m=\u001b[39m \u001b[38;5;28mself\u001b[39m\u001b[38;5;241m.\u001b[39m_convert_xy_units(\u001b[38;5;28mself\u001b[39m\u001b[38;5;241m.\u001b[39m_posA_posB[\u001b[38;5;241m1\u001b[39m])\n\u001b[0;32m   4354\u001b[0m     (posA, posB) \u001b[38;5;241m=\u001b[39m \u001b[38;5;28mself\u001b[39m\u001b[38;5;241m.\u001b[39mget_transform()\u001b[38;5;241m.\u001b[39mtransform((posA, posB))\n\u001b[1;32m-> 4355\u001b[0m     _path \u001b[38;5;241m=\u001b[39m \u001b[38;5;28;43mself\u001b[39;49m\u001b[38;5;241;43m.\u001b[39;49m\u001b[43mget_connectionstyle\u001b[49m\u001b[43m(\u001b[49m\u001b[43m)\u001b[49m\u001b[43m(\u001b[49m\u001b[43mposA\u001b[49m\u001b[43m,\u001b[49m\u001b[43m \u001b[49m\u001b[43mposB\u001b[49m\u001b[43m,\u001b[49m\n\u001b[0;32m   4356\u001b[0m \u001b[43m                                       \u001b[49m\u001b[43mpatchA\u001b[49m\u001b[38;5;241;43m=\u001b[39;49m\u001b[38;5;28;43mself\u001b[39;49m\u001b[38;5;241;43m.\u001b[39;49m\u001b[43mpatchA\u001b[49m\u001b[43m,\u001b[49m\n\u001b[0;32m   4357\u001b[0m \u001b[43m                                       \u001b[49m\u001b[43mpatchB\u001b[49m\u001b[38;5;241;43m=\u001b[39;49m\u001b[38;5;28;43mself\u001b[39;49m\u001b[38;5;241;43m.\u001b[39;49m\u001b[43mpatchB\u001b[49m\u001b[43m,\u001b[49m\n\u001b[0;32m   4358\u001b[0m \u001b[43m                                       \u001b[49m\u001b[43mshrinkA\u001b[49m\u001b[38;5;241;43m=\u001b[39;49m\u001b[38;5;28;43mself\u001b[39;49m\u001b[38;5;241;43m.\u001b[39;49m\u001b[43mshrinkA\u001b[49m\u001b[43m \u001b[49m\u001b[38;5;241;43m*\u001b[39;49m\u001b[43m \u001b[49m\u001b[43mdpi_cor\u001b[49m\u001b[43m,\u001b[49m\n\u001b[0;32m   4359\u001b[0m \u001b[43m                                       \u001b[49m\u001b[43mshrinkB\u001b[49m\u001b[38;5;241;43m=\u001b[39;49m\u001b[38;5;28;43mself\u001b[39;49m\u001b[38;5;241;43m.\u001b[39;49m\u001b[43mshrinkB\u001b[49m\u001b[43m \u001b[49m\u001b[38;5;241;43m*\u001b[39;49m\u001b[43m \u001b[49m\u001b[43mdpi_cor\u001b[49m\n\u001b[0;32m   4360\u001b[0m \u001b[43m                                       \u001b[49m\u001b[43m)\u001b[49m\n\u001b[0;32m   4361\u001b[0m \u001b[38;5;28;01melse\u001b[39;00m:\n\u001b[0;32m   4362\u001b[0m     _path \u001b[38;5;241m=\u001b[39m \u001b[38;5;28mself\u001b[39m\u001b[38;5;241m.\u001b[39mget_transform()\u001b[38;5;241m.\u001b[39mtransform_path(\u001b[38;5;28mself\u001b[39m\u001b[38;5;241m.\u001b[39m_path_original)\n",
      "File \u001b[1;32mc:\\Users\\docuser\\AppData\\Local\\Programs\\Python\\Python312\\Lib\\site-packages\\matplotlib\\patches.py:2756\u001b[0m, in \u001b[0;36mConnectionStyle._Base.__call__\u001b[1;34m(self, posA, posB, shrinkA, shrinkB, patchA, patchB)\u001b[0m\n\u001b[0;32m   2750\u001b[0m path \u001b[38;5;241m=\u001b[39m \u001b[38;5;28mself\u001b[39m\u001b[38;5;241m.\u001b[39mconnect(posA, posB)\n\u001b[0;32m   2751\u001b[0m path \u001b[38;5;241m=\u001b[39m \u001b[38;5;28mself\u001b[39m\u001b[38;5;241m.\u001b[39m_clip(\n\u001b[0;32m   2752\u001b[0m     path,\n\u001b[0;32m   2753\u001b[0m     \u001b[38;5;28mself\u001b[39m\u001b[38;5;241m.\u001b[39m_in_patch(patchA) \u001b[38;5;28;01mif\u001b[39;00m patchA \u001b[38;5;28;01melse\u001b[39;00m \u001b[38;5;28;01mNone\u001b[39;00m,\n\u001b[0;32m   2754\u001b[0m     \u001b[38;5;28mself\u001b[39m\u001b[38;5;241m.\u001b[39m_in_patch(patchB) \u001b[38;5;28;01mif\u001b[39;00m patchB \u001b[38;5;28;01melse\u001b[39;00m \u001b[38;5;28;01mNone\u001b[39;00m,\n\u001b[0;32m   2755\u001b[0m )\n\u001b[1;32m-> 2756\u001b[0m path \u001b[38;5;241m=\u001b[39m \u001b[38;5;28;43mself\u001b[39;49m\u001b[38;5;241;43m.\u001b[39;49m\u001b[43m_clip\u001b[49m\u001b[43m(\u001b[49m\n\u001b[0;32m   2757\u001b[0m \u001b[43m    \u001b[49m\u001b[43mpath\u001b[49m\u001b[43m,\u001b[49m\n\u001b[0;32m   2758\u001b[0m \u001b[43m    \u001b[49m\u001b[43minside_circle\u001b[49m\u001b[43m(\u001b[49m\u001b[38;5;241;43m*\u001b[39;49m\u001b[43mpath\u001b[49m\u001b[38;5;241;43m.\u001b[39;49m\u001b[43mvertices\u001b[49m\u001b[43m[\u001b[49m\u001b[38;5;241;43m0\u001b[39;49m\u001b[43m]\u001b[49m\u001b[43m,\u001b[49m\u001b[43m \u001b[49m\u001b[43mshrinkA\u001b[49m\u001b[43m)\u001b[49m\u001b[43m \u001b[49m\u001b[38;5;28;43;01mif\u001b[39;49;00m\u001b[43m \u001b[49m\u001b[43mshrinkA\u001b[49m\u001b[43m \u001b[49m\u001b[38;5;28;43;01melse\u001b[39;49;00m\u001b[43m \u001b[49m\u001b[38;5;28;43;01mNone\u001b[39;49;00m\u001b[43m,\u001b[49m\n\u001b[0;32m   2759\u001b[0m \u001b[43m    \u001b[49m\u001b[43minside_circle\u001b[49m\u001b[43m(\u001b[49m\u001b[38;5;241;43m*\u001b[39;49m\u001b[43mpath\u001b[49m\u001b[38;5;241;43m.\u001b[39;49m\u001b[43mvertices\u001b[49m\u001b[43m[\u001b[49m\u001b[38;5;241;43m-\u001b[39;49m\u001b[38;5;241;43m1\u001b[39;49m\u001b[43m]\u001b[49m\u001b[43m,\u001b[49m\u001b[43m \u001b[49m\u001b[43mshrinkB\u001b[49m\u001b[43m)\u001b[49m\u001b[43m \u001b[49m\u001b[38;5;28;43;01mif\u001b[39;49;00m\u001b[43m \u001b[49m\u001b[43mshrinkB\u001b[49m\u001b[43m \u001b[49m\u001b[38;5;28;43;01melse\u001b[39;49;00m\u001b[43m \u001b[49m\u001b[38;5;28;43;01mNone\u001b[39;49;00m\n\u001b[0;32m   2760\u001b[0m \u001b[43m\u001b[49m\u001b[43m)\u001b[49m\n\u001b[0;32m   2761\u001b[0m \u001b[38;5;28;01mreturn\u001b[39;00m path\n",
      "File \u001b[1;32mc:\\Users\\docuser\\AppData\\Local\\Programs\\Python\\Python312\\Lib\\site-packages\\matplotlib\\patches.py:2734\u001b[0m, in \u001b[0;36mConnectionStyle._Base._clip\u001b[1;34m(self, path, in_start, in_stop)\u001b[0m\n\u001b[0;32m   2732\u001b[0m \u001b[38;5;28;01mif\u001b[39;00m in_start:\n\u001b[0;32m   2733\u001b[0m     \u001b[38;5;28;01mtry\u001b[39;00m:\n\u001b[1;32m-> 2734\u001b[0m         _, path \u001b[38;5;241m=\u001b[39m \u001b[43msplit_path_inout\u001b[49m\u001b[43m(\u001b[49m\u001b[43mpath\u001b[49m\u001b[43m,\u001b[49m\u001b[43m \u001b[49m\u001b[43min_start\u001b[49m\u001b[43m)\u001b[49m\n\u001b[0;32m   2735\u001b[0m     \u001b[38;5;28;01mexcept\u001b[39;00m \u001b[38;5;167;01mValueError\u001b[39;00m:\n\u001b[0;32m   2736\u001b[0m         \u001b[38;5;28;01mpass\u001b[39;00m\n",
      "File \u001b[1;32mc:\\Users\\docuser\\AppData\\Local\\Programs\\Python\\Python312\\Lib\\site-packages\\matplotlib\\bezier.py:359\u001b[0m, in \u001b[0;36msplit_path_inout\u001b[1;34m(path, inside, tolerance, reorder_inout)\u001b[0m\n\u001b[0;32m    356\u001b[0m \u001b[38;5;28;01mfrom\u001b[39;00m \u001b[38;5;21;01m.\u001b[39;00m\u001b[38;5;21;01mpath\u001b[39;00m \u001b[38;5;28;01mimport\u001b[39;00m Path\n\u001b[0;32m    357\u001b[0m path_iter \u001b[38;5;241m=\u001b[39m path\u001b[38;5;241m.\u001b[39miter_segments()\n\u001b[1;32m--> 359\u001b[0m ctl_points, command \u001b[38;5;241m=\u001b[39m \u001b[38;5;28;43mnext\u001b[39;49m\u001b[43m(\u001b[49m\u001b[43mpath_iter\u001b[49m\u001b[43m)\u001b[49m\n\u001b[0;32m    360\u001b[0m begin_inside \u001b[38;5;241m=\u001b[39m inside(ctl_points[\u001b[38;5;241m-\u001b[39m\u001b[38;5;241m2\u001b[39m:])  \u001b[38;5;66;03m# true if begin point is inside\u001b[39;00m\n\u001b[0;32m    362\u001b[0m ctl_points_old \u001b[38;5;241m=\u001b[39m ctl_points\n",
      "\u001b[1;31mStopIteration\u001b[0m: "
     ]
    },
    {
     "data": {
      "image/png": "[encoded data removed]",
      "text/plain": [
       "<Figure size 640x480 with 1 Axes>"
      ]
     },
     "metadata": {},
     "output_type": "display_data"
    }
   ],
   "source": []
  }
 ],
 "metadata": {
  "kernelspec": {
   "display_name": "Python 3",
   "language": "python",
   "name": "python3"
  },
  "language_info": {
   "codemirror_mode": {
    "name": "ipython",
    "version": 3
   },
   "file_extension": ".py",
   "mimetype": "text/x-python",
   "name": "python",
   "nbconvert_exporter": "python",
   "pygments_lexer": "ipython3",
   "version": "3.12.3"
  }
 },
 "nbformat": 4,
 "nbformat_minor": 2
}
