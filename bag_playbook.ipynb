{
 "cells": [
  {
   "cell_type": "markdown",
   "metadata": {},
   "source": [
    "Import the librairies and modules:"
   ]
  },
  {
   "cell_type": "code",
   "execution_count": 41,
   "metadata": {},
   "outputs": [],
   "source": [
    "import csv\n",
    "import re\n",
    "import numpy as np\n",
    "from pathlib import Path\n",
    "from BAG_Code_tw520.BayesianAttackGraph import parse_dot\n",
    "from BAG_Code_tw520.createANDtable import create_AND_table\n",
    "from BAG_Code_tw520.createORtable import create_OR_table\n",
    "\n",
    "from pgmpy.inference.ExactInference import BeliefPropagation\n",
    "from pgmpy.factors.discrete import TabularCPD"
   ]
  },
  {
   "cell_type": "markdown",
   "metadata": {},
   "source": [
    "To prepare the simulation use the following to put the graph in memory:"
   ]
  },
  {
   "cell_type": "code",
   "execution_count": 42,
   "metadata": {},
   "outputs": [],
   "source": [
    "# Name of the simulation\n",
    "simulation = \"selection\"\n",
    "\n",
    "# Constante for probability one\n",
    "ONE = 0.999"
   ]
  },
  {
   "cell_type": "code",
   "execution_count": 43,
   "metadata": {},
   "outputs": [],
   "source": [
    "def to_dot(BAG, nodes, evidences, display_kts=False):\n",
    "    dot = 'digraph G {\\n'\n",
    "    regex = r\"\\d+:RULE \\d+ \\((.*?)\\):\\d+\\.\\d+\"\n",
    "    print(BAG)\n",
    "    prop = BeliefPropagation(BAG)\n",
    "    nodes_wo_evidences = [n for n in nodes.keys() if n not in evidences.keys()]\n",
    "    total_prob = prop.query(nodes_wo_evidences, evidence=evidences)\n",
    "    def node_to_dot(node):\n",
    "        if node not in evidences.keys():\n",
    "            prob = total_prob.marginalize([n for n in nodes_wo_evidences if n != node], inplace=False).values[1]\n",
    "        else:\n",
    "            prob = 1\n",
    "        probH = int(prob * 255)\n",
    "        color = '#' + format(probH, '02X') +''+ format(255-probH, '02X') + '00'\n",
    "        CVE = nodes[node]['CVE']\n",
    "        LABEL = nodes[node]['label']\n",
    "        number = LABEL.split(\":\")[0]\n",
    "        prob = \"{:.3f}\".format(prob)\n",
    "        shape = nodes[node]['shape']\n",
    "        if CVE != 'null':\n",
    "            return f'  {node} [label=\\\"{node} ({number})\\\\n{CVE}\\\\n{prob}\\\", color=\\\"{color}\\\", penwidth=3, shape=\\\"{shape}\\\"];\\n'\n",
    "        else:\n",
    "            correspondance = re.search(regex, LABEL)\n",
    "            if correspondance:\n",
    "                return f'  {node} [label=\\\"{node} ({number})\\\\n{correspondance.group(1)}\\\\n{prob}\\\", color=\\\"{color}\\\", penwidth=3, shape=\\\"{shape}\\\"];\\n'\n",
    "            else:\n",
    "                return f'  {node} [label=\"{node} ({number})\\\\n{LABEL}\\\\n{prob}\", color=\"{color}\", penwidth=3, shape=\"{shape}\"];\\n'\n",
    "    for node in nodes.keys():\n",
    "        dot += node_to_dot(node)\n",
    "    for edge in BAG.edges():\n",
    "        if display_kts or edge[0] in nodes.keys():\n",
    "            dot += f'  \\\"{edge[0]}\\\" -> \\\"{edge[1]}\\\";\\n'\n",
    "    dot += '}'\n",
    "    return dot\n",
    "\n",
    "def kts_layer(BAG, ONE, nodes):    \n",
    "    # The skills layer:\n",
    "    cpd_ALskills = TabularCPD('ALskills', 2, [[1-ONE], [ONE]])\n",
    "    cpd_AHskills = TabularCPD('AHskills', 2, [[ONE], [1-ONE]])\n",
    "    cpd_0skills = TabularCPD('uskills', 2, [[0.5], [0.5]])\n",
    "    BAG.add_edge('ALskills', 'Lskills')\n",
    "    BAG.add_edge('ALskills', 'Hskills')\n",
    "    BAG.add_edge('AHskills', 'Hskills')\n",
    "    BAG.add_edge('Hskills', 'Lskills')\n",
    "    cpd_Lskills = TabularCPD('Lskills', 2, create_OR_table([0.9, 1]).T, ['ALskills', 'Hskills'], evidence_card=2*np.ones(2))\n",
    "    cpd_Hskills = TabularCPD('Hskills', 2, create_OR_table([0.1, 0.9]).T, ['ALskills', 'AHskills'], evidence_card=2*np.ones(2))\n",
    "\n",
    "    # The tools layer:\n",
    "    cpd_Aimpacket = TabularCPD('Aimpacket', 2, [[0.5], [0.5]])\n",
    "    cpd_Aimpacketplus = TabularCPD('AimpacketP', 2, [[ONE], [1-ONE]])\n",
    "    BAG.add_edge('Aimpacket', 'impacketP')\n",
    "    BAG.add_edge('Aimpacket', 'impacket')\n",
    "    BAG.add_edge('AimpacketP', 'impacketP')\n",
    "    BAG.add_edge('impacketP', 'impacket')\n",
    "    cpd_impacket = TabularCPD('impacket', 2, create_OR_table([1, 1]).T, ['Aimpacket', 'impacketP'], evidence_card=2*np.ones(2))\n",
    "    cpd_impacketplus = TabularCPD('impacketP', 2, create_OR_table([0.9, 1]).T, ['Aimpacket', 'AimpacketP'], evidence_card=2*np.ones(2))\n",
    "    cpd_tools = [TabularCPD(tool, 2, [[0.5], [0.5]]) for tool in ['Metasploit', 'Responder', 'dnscmd.exe', 'certipy']]\n",
    "\n",
    "\n",
    "    # The knowledge layer:\n",
    "    cpd_knowledge = [TabularCPD(knowledge, 2, [[0.5], [0.5]]) for knowledge in ['Known vulnerabilities', 'CQCM', 'No credentials', 'MITM', 'Permissions move', 'Privilege escalation', 'Lateral move', 'ADCS']]\n",
    "\n",
    "    # Import all the dependencies\n",
    "    cpt_l4 = create_AND_table([ONE, ONE, ONE, ONE])\n",
    "    with open('./Threat_Inteligence/CVE_knowledge_tooling_skills.csv', mode='r') as ktsfile:\n",
    "        reader = csv.DictReader(ktsfile)\n",
    "        kts_dict = {}\n",
    "        for row in reader:\n",
    "            cve = row['Vulnerability']\n",
    "            tmp = {'tool': row['tool'], 'skills': row['skills'], 'Type': row['Type']}\n",
    "            kts_dict[cve] = tmp\n",
    "    for node in nodes.items():\n",
    "            id = node[0]\n",
    "            node = node[1]\n",
    "            if node['CVE'] != \"null\":\n",
    "                row = kts_dict[node['CVE']]\n",
    "                if 'impacket' in row['tool'] and row['tool'] != 'impacket':\n",
    "                    name = 'impacket' + str(id)\n",
    "                    BAG.add_edge(name, id)\n",
    "                    BAG.add_edge('impacketP', name)\n",
    "                    BAG.add_cpds(TabularCPD(name, 2, create_OR_table([0.7]).T, ['impacketP'], evidence_card=2*np.ones(1)))\n",
    "                elif row['tool'] == 'Unknown':\n",
    "                    print(row['tool'])\n",
    "                    name = 'unknown' + str(id)\n",
    "                    BAG.add_edge(name, id)\n",
    "                    BAG.add_cpds(TabularCPD(name, 2, [[0.5], [0.5]]))\n",
    "                else:\n",
    "                    BAG.add_edge(row['tool'], id)\n",
    "                BAG.add_edge(row['skills'] + 'skills', id)\n",
    "                BAG.add_edge(row['Type'], id)\n",
    "                parents = BAG.get_parents(id)\n",
    "                BAG.add_cpds(TabularCPD(id, 2, cpt_l4.T, parents, evidence_card=2*np.ones(len(parents))))\n",
    "    # We add all the necessary CPDs to the BAG\n",
    "    for cpd in [cpd_0skills, cpd_impacketplus, cpd_Lskills, cpd_ALskills, cpd_AHskills, cpd_Hskills, cpd_Aimpacket, cpd_Aimpacketplus, cpd_impacket] + cpd_tools + cpd_knowledge:\n",
    "        if BAG.__contains__(cpd.variable):\n",
    "            BAG.add_cpds(cpd)"
   ]
  },
  {
   "cell_type": "code",
   "execution_count": 44,
   "metadata": {},
   "outputs": [],
   "source": [
    "\n",
    "# Path to the folder containing the tree\n",
    "path = Path.cwd() / (\"Personnal_simulations/output_\" + simulation + \"/strongly_connected_components/\")\n",
    "file_name = \"ag-nocycles.dot\"\n",
    "path_to_dot = path / file_name\n",
    "output_file = path / (file_name[:-4] + \"_colored.dot\")\n",
    "\n",
    "# We all read from the file, adding probabilities in the same time\n",
    "BAG, edges, nodes = parse_dot(open(path_to_dot, 'r').read(), ONE)\n",
    "\n",
    "# This is the reference BAG, before the attacker has compromised any node\n",
    "BAG_ref = BAG.copy()\n",
    "prop0 = BeliefPropagation(BAG_ref)\n",
    "\n",
    "# We create a dictionary to get the node number from the label\n",
    "inverted_nodes = {int(v['label'].split(':')[0]): k for k, v in nodes.items()}\n",
    "\n",
    "kts_layer(BAG, ONE, nodes)"
   ]
  },
  {
   "cell_type": "code",
   "execution_count": null,
   "metadata": {},
   "outputs": [],
   "source": []
  },
  {
   "cell_type": "code",
   "execution_count": 45,
   "metadata": {},
   "outputs": [
    {
     "name": "stderr",
     "output_type": "stream",
     "text": [
      "WARNING:pgmpy:Replacing existing CPD for 2\n",
      "WARNING:pgmpy:Replacing existing CPD for 4\n",
      "WARNING:pgmpy:Replacing existing CPD for 6\n",
      "WARNING:pgmpy:Replacing existing CPD for 10\n",
      "WARNING:pgmpy:Replacing existing CPD for 12\n",
      "WARNING:pgmpy:Replacing existing CPD for 14\n",
      "WARNING:pgmpy:Replacing existing CPD for 16\n",
      "WARNING:pgmpy:Replacing existing CPD for 17\n",
      "WARNING:pgmpy:Replacing existing CPD for 19\n"
     ]
    },
    {
     "name": "stdout",
     "output_type": "stream",
     "text": [
      "Unknown\n",
      "Unknown\n",
      "Unknown\n"
     ]
    }
   ],
   "source": [
    "\n",
    "\n"
   ]
  },
  {
   "cell_type": "code",
   "execution_count": 46,
   "metadata": {},
   "outputs": [
    {
     "name": "stdout",
     "output_type": "stream",
     "text": [
      "BayesianNetwork with 39 nodes and 57 edges\n"
     ]
    },
    {
     "name": "stderr",
     "output_type": "stream",
     "text": [
      "c:\\Users\\docuser\\AppData\\Local\\Programs\\Python\\Python312\\Lib\\site-packages\\pgmpy\\factors\\discrete\\DiscreteFactor.py:796: RuntimeWarning: invalid value encountered in divide\n",
      "  phi.values = phi.values / phi1.values\n"
     ]
    },
    {
     "name": "stdout",
     "output_type": "stream",
     "text": [
      "BayesianNetwork with 19 nodes and 20 edges\n"
     ]
    }
   ],
   "source": [
    "evidence = {14 : 1}\n",
    "with open(output_file, 'w') as f:\n",
    "    f.write(to_dot(BAG, nodes, evidence, display_kts=True))\n",
    "with open(path / (\"BAG_ref\" + \".dot\"), 'w') as f:\n",
    "    f.write(to_dot(BAG_ref, nodes, evidence))"
   ]
  },
  {
   "cell_type": "markdown",
   "metadata": {},
   "source": [
    "## When the attacker become dcsync and we want to recalculate for domain admin\n",
    "src_node = [7, 10]\n",
    "dst_node = [ 14, 16, 12, 2]"
   ]
  },
  {
   "cell_type": "code",
   "execution_count": 47,
   "metadata": {},
   "outputs": [
    {
     "name": "stdout",
     "output_type": "stream",
     "text": [
      "+------+----------------------+---------------------+\n",
      "| 2    | 2(0)                 | 2(1)                |\n",
      "+------+----------------------+---------------------+\n",
      "| 1(0) | 0.99                 | 0.19999999999999996 |\n",
      "+------+----------------------+---------------------+\n",
      "| 1(1) | 0.010000000000000009 | 0.8                 |\n",
      "+------+----------------------+---------------------+\n"
     ]
    }
   ],
   "source": [
    "tab = BeliefPropagation(BAG).query(['impacketP'], evidence=evidence)\n",
    "print(BAG.get_cpds(1))"
   ]
  }
 ],
 "metadata": {
  "kernelspec": {
   "display_name": "Python 3",
   "language": "python",
   "name": "python3"
  },
  "language_info": {
   "codemirror_mode": {
    "name": "ipython",
    "version": 3
   },
   "file_extension": ".py",
   "mimetype": "text/x-python",
   "name": "python",
   "nbconvert_exporter": "python",
   "pygments_lexer": "ipython3",
   "version": "3.12.3"
  }
 },
 "nbformat": 4,
 "nbformat_minor": 2
}
