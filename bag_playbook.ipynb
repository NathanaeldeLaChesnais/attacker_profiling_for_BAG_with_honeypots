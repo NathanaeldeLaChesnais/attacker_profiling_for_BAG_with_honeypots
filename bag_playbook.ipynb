{
 "cells": [
  {
   "cell_type": "markdown",
   "metadata": {},
   "source": [
    "Import the librairies and modules:"
   ]
  },
  {
   "cell_type": "code",
   "execution_count": 9,
   "metadata": {},
   "outputs": [],
   "source": [
    "import csv\n",
    "import re\n",
    "import numpy as np\n",
    "from pathlib import Path\n",
    "from BAG_Code_tw520.BayesianAttackGraph import parse_dot\n",
    "from BAG_Code_tw520.createANDtable import create_AND_table\n",
    "from BAG_Code_tw520.createORtable import create_OR_table\n",
    "from BAG_Code_tw520.Tools_tree import tokenizer, Parser, build_tools_tree\n",
    "\n",
    "from pgmpy.inference.ExactInference import BeliefPropagation\n",
    "from pgmpy.factors.discrete import TabularCPD"
   ]
  },
  {
   "cell_type": "markdown",
   "metadata": {},
   "source": [
    "To prepare the simulation use the following to put the graph in memory:"
   ]
  },
  {
   "cell_type": "code",
   "execution_count": 10,
   "metadata": {},
   "outputs": [],
   "source": [
    "# Name of the simulation\n",
    "simulation = \"HightLevel\"\n",
    "\n",
    "# Constante for probability one\n",
    "ONE = 0.999"
   ]
  },
  {
   "cell_type": "code",
   "execution_count": 11,
   "metadata": {},
   "outputs": [],
   "source": [
    "def to_dot(BAG, nodes, evidences, display_kts=False, calculate_probabilities=False):\n",
    "    dot = 'digraph G {\\n'\n",
    "    regex = r\"\\d+:RULE \\d+ \\((.*?)\\):\\d+\\.\\d+\"\n",
    "    print(BAG)\n",
    "    nodes_wo_evidences = [n for n in nodes.keys() if n not in evidences.keys()]\n",
    "    nodes_1 = nodes_wo_evidences[:len(nodes_wo_evidences)//3]\n",
    "    nodes_2 = nodes_wo_evidences[len(nodes_wo_evidences)//3:(len(nodes_wo_evidences)*2)//3]\n",
    "    nodes_3 = nodes_wo_evidences[(len(nodes_wo_evidences)*2)//3:]\n",
    "    honeynodes = [str(n) for n in range(30,52)]\n",
    "    if calculate_probabilities:\n",
    "        prop = BeliefPropagation(BAG)\n",
    "        total_prob1 = prop.query(nodes_1, evidence=evidences)\n",
    "        total_prob2 = prop.query(nodes_2, evidence=evidences)\n",
    "        total_prob3 = prop.query(nodes_3, evidence=evidences)\n",
    "    def node_to_dot(node):\n",
    "        if node not in evidences.keys() and calculate_probabilities:\n",
    "            # prob = prop.query([node], evidence=evidences).values[1]\n",
    "            if node in nodes_1:\n",
    "                prob = total_prob1.marginalize([n for n in nodes_1 if n != node], inplace=False).values[1]\n",
    "            elif node in nodes_2:\n",
    "                prob = total_prob2.marginalize([n for n in nodes_2 if n != node], inplace=False).values[1]\n",
    "            elif node in nodes_3:\n",
    "                prob = total_prob3.marginalize([n for n in nodes_3 if n != node], inplace=False).values[1]\n",
    "            print(node, prob)        \n",
    "        else:\n",
    "            prob = 1\n",
    "        probH = int(prob * 255)\n",
    "        color = '#' + format(probH, '02X') +''+ format(255-probH, '02X') + '00'\n",
    "        CVE = nodes[node]['CVE']\n",
    "        LABEL = nodes[node]['label']\n",
    "        number = LABEL.split(\":\")[0]\n",
    "        color = 'blue' if number in honeynodes else color\n",
    "        prob = \"{:.3f}\".format(prob)\n",
    "        shape = nodes[node]['shape']\n",
    "        if CVE != 'null':\n",
    "            return f'  {node} [label=\\\"{node} ({number})\\\\n{CVE}\\\\n{prob}\\\", color=\\\"{color}\\\", penwidth=3, shape=\\\"{shape}\\\"];\\n'\n",
    "        else:\n",
    "            correspondance = re.search(regex, LABEL)\n",
    "            if correspondance:\n",
    "                return f'  {node} [label=\\\"{node} ({number})\\\\n{correspondance.group(1)}\\\\n{prob}\\\", color=\\\"{color}\\\", penwidth=3, shape=\\\"{shape}\\\"];\\n'\n",
    "            else:\n",
    "                return f'  {node} [label=\"{node} ({number})\\\\n{LABEL}\\\\n{prob}\", color=\"{color}\", penwidth=3, shape=\"{shape}\"];\\n'\n",
    "    for node in nodes.keys():\n",
    "        dot += node_to_dot(node)\n",
    "    for edge in BAG.edges():\n",
    "        if display_kts or edge[0] in nodes.keys():\n",
    "            dot += f'  \\\"{edge[0]}\\\" -> \\\"{edge[1]}\\\";\\n'\n",
    "    dot += '}'\n",
    "    return dot\n",
    "\n",
    "def kts_layer(BAG, ONE, nodes):    \n",
    "    # The skills layer:\n",
    "    cpd_Lskills = TabularCPD('Lskills', 2, [[0.1], [0.9]])\n",
    "    cpd_Hskills = TabularCPD('Hskills', 2, [[0.9], [0.1]])\n",
    "    # cpd_Lskills = TabularCPD('Lskills', 2, [[0.5], [0.5]])\n",
    "\n",
    "    \n",
    "    # The knowledge layer:\n",
    "    cpd_knowledge = [TabularCPD(knowledge, 2, [[0.5], [0.5]]) for knowledge in ['Known vulnerabilities', 'CQCM', 'No credentials', 'MITM', 'Permissions move', 'Privilege escalation', 'Lateral move', 'ADCS']]\n",
    "\n",
    "    # Import all the dependencies\n",
    "    cpt_l4 = create_AND_table([ONE, ONE, ONE, ONE])\n",
    "    with open('./Threat_Inteligence/CVE_knowledge_tooling_skills.csv', mode='r') as ktsfile:\n",
    "        reader = csv.DictReader(ktsfile)\n",
    "        kts_dict = {}\n",
    "        for row in reader:\n",
    "            cve = row['Vulnerability']\n",
    "            tmp = {'tool': row['tool'], 'skills': row['skills'], 'Type': row['Type']}\n",
    "            kts_dict[cve] = tmp\n",
    "    for node in nodes.items():\n",
    "            id = node[0]\n",
    "            node = node[1]\n",
    "            if node['CVE'] != \"null\":\n",
    "                row = kts_dict[node['CVE']]\n",
    "                build_tools_tree(BAG, Parser(tokenizer(row['tool'])).parse(), id, ONE)\n",
    "                BAG.add_edge(row['skills'] + 'skills', id)\n",
    "                build_tools_tree(BAG, Parser(tokenizer(row['Type'])).parse(), id, ONE)\n",
    "                parents = BAG.get_parents(id)\n",
    "                BAG.add_cpds(TabularCPD(id, 2, cpt_l4.T, parents, evidence_card=2*np.ones(len(parents))))\n",
    "    # We add all the necessary CPDs to the BAG\n",
    "    for cpd in [cpd_Lskills, cpd_Hskills] + cpd_knowledge:\n",
    "        if BAG.__contains__(cpd.variable):\n",
    "            BAG.add_cpds(cpd)"
   ]
  },
  {
   "cell_type": "code",
   "execution_count": 12,
   "metadata": {},
   "outputs": [],
   "source": [
    "\n",
    "# Path to the folder containing the tree\n",
    "path = Path.cwd() / (\"Personnal_simulations/output_\" + simulation + \"/strongly_connected_components/\")\n",
    "file_name = \"ag-nocycles.dot\"\n",
    "path_to_dot = path / file_name\n",
    "output_file = path / (file_name[:-4] + \"_colored.dot\")\n",
    "\n",
    "# We all read from the file, adding probabilities in the same time\n",
    "BAG, edges, nodes = parse_dot(open(path_to_dot, 'r').read(), ONE)\n",
    "\n",
    "# This is the reference BAG, before the attacker has compromised any node\n",
    "BAG_ref = BAG.copy()\n",
    "prop0 = BeliefPropagation(BAG_ref)\n",
    "\n",
    "# We create a dictionary to get the node number from the label\n",
    "inverted_nodes = {int(v['label'].split(':')[0]): k for k, v in nodes.items()}\n"
   ]
  },
  {
   "cell_type": "code",
   "execution_count": 13,
   "metadata": {},
   "outputs": [],
   "source": [
    "# BAG.remove_edges_from([(12,11 ) , (11,10), (10,9), (9,8)])\n",
    "# BAG.remove_nodes_from([11,10,9])\n",
    "# nodes = {k: v for k, v in nodes.items() if k not in [11,10,9]}\n",
    "# BAG.add_edges_from([(12,8)])\n",
    "# BAG.add_cpds(TabularCPD(8, 2, create_AND_table([ONE]).T, [12], evidence_card=2*np.ones(1)))"
   ]
  },
  {
   "cell_type": "code",
   "execution_count": 14,
   "metadata": {},
   "outputs": [
    {
     "name": "stderr",
     "output_type": "stream",
     "text": [
      "WARNING:pgmpy:Replacing existing CPD for 2\n",
      "WARNING:pgmpy:Replacing existing CPD for 4\n",
      "WARNING:pgmpy:Replacing existing CPD for 6\n",
      "WARNING:pgmpy:Replacing existing CPD for 8\n",
      "WARNING:pgmpy:Replacing existing CPD for 10\n",
      "WARNING:pgmpy:Replacing existing CPD for 12\n",
      "WARNING:pgmpy:Replacing existing CPD for 14\n",
      "WARNING:pgmpy:Replacing existing CPD for 16\n",
      "WARNING:pgmpy:Replacing existing CPD for 18\n",
      "WARNING:pgmpy:Replacing existing CPD for 20\n",
      "WARNING:pgmpy:Replacing existing CPD for 22\n",
      "WARNING:pgmpy:Replacing existing CPD for 23\n",
      "WARNING:pgmpy:Replacing existing CPD for 24\n",
      "WARNING:pgmpy:Replacing existing CPD for 26\n",
      "WARNING:pgmpy:Replacing existing CPD for 27\n",
      "WARNING:pgmpy:Replacing existing CPD for MITM\n"
     ]
    }
   ],
   "source": [
    "kts_layer(BAG, ONE, nodes)"
   ]
  },
  {
   "cell_type": "code",
   "execution_count": 15,
   "metadata": {},
   "outputs": [
    {
     "name": "stdout",
     "output_type": "stream",
     "text": [
      "BayesianNetwork with 44 nodes and 79 edges\n",
      "BayesianNetwork with 28 nodes and 32 edges\n"
     ]
    }
   ],
   "source": [
    "evidence = {}\n",
    "with open(path / (\"output_\" + str(27) + \".dot\"), 'w') as f:\n",
    "    f.write(to_dot(BAG, nodes, evidence, display_kts=False, calculate_probabilities=False))\n",
    "with open(path / (\"BAG_ref\" + \".dot\"), 'w') as f:\n",
    "    f.write(to_dot(BAG_ref, nodes, evidence))"
   ]
  },
  {
   "cell_type": "markdown",
   "metadata": {},
   "source": [
    "## When the attacker become dcsync and we want to recalculate for domain admin\n",
    "src_node = [7, 10]\n",
    "dst_node = [ 14, 16, 12, 2]"
   ]
  },
  {
   "cell_type": "code",
   "execution_count": 16,
   "metadata": {},
   "outputs": [
    {
     "name": "stdout",
     "output_type": "stream",
     "text": [
      "BayesianNetwork with 44 nodes and 79 edges\n",
      "1 0.07802117249696613\n",
      "2 0.08567427419017368\n",
      "3 0.9881804791506632\n",
      "4 0.9978672418161094\n",
      "5 0.9995196184625778\n",
      "6 0.9291904574326048\n",
      "7 0.9312149323229669\n",
      "8 0.9269948461222266\n",
      "9 0.9293623931612245\n",
      "10 0.931725699728357\n",
      "11 0.999999430810387\n",
      "12 0.07628497848064304\n",
      "13 0.07872270428630333\n",
      "14 0.07448745817975554\n",
      "15 0.08422273174232942\n",
      "16 0.08865829746235948\n",
      "18 0.09546127602605328\n",
      "19 0.9897851099870381\n",
      "20 0.9945392766438585\n",
      "22 0.07542820376339958\n",
      "23 0.9289958541102785\n",
      "24 0.056021892377660185\n",
      "25 0.05909660266791672\n",
      "26 0.07133484613074408\n",
      "28 0.9894979809649975\n"
     ]
    }
   ],
   "source": [
    "evidence = {17:1, 27:1, 21:1}\n",
    "with open(path / (\"output_\" + str(21) + \".dot\"), 'w') as f:\n",
    "    f.write(to_dot(BAG, nodes, evidence, display_kts=False, calculate_probabilities=True))"
   ]
  },
  {
   "cell_type": "code",
   "execution_count": 17,
   "metadata": {},
   "outputs": [
    {
     "name": "stdout",
     "output_type": "stream",
     "text": [
      "+------------+----------------+\n",
      "| Hskills    |   phi(Hskills) |\n",
      "+============+================+\n",
      "| Hskills(0) |         0.8375 |\n",
      "+------------+----------------+\n",
      "| Hskills(1) |         0.1625 |\n",
      "+------------+----------------+\n"
     ]
    }
   ],
   "source": [
    "tab = BeliefPropagation(BAG).query(['Hskills'], evidence=evidence)\n",
    "print(tab)"
   ]
  }
 ],
 "metadata": {
  "kernelspec": {
   "display_name": "Python 3",
   "language": "python",
   "name": "python3"
  },
  "language_info": {
   "codemirror_mode": {
    "name": "ipython",
    "version": 3
   },
   "file_extension": ".py",
   "mimetype": "text/x-python",
   "name": "python",
   "nbconvert_exporter": "python",
   "pygments_lexer": "ipython3",
   "version": "3.12.3"
  }
 },
 "nbformat": 4,
 "nbformat_minor": 2
}
