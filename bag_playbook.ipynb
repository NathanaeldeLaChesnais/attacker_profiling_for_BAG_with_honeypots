{
 "cells": [
  {
   "cell_type": "markdown",
   "metadata": {},
   "source": [
    "Import the librairies and modules:"
   ]
  },
  {
   "cell_type": "code",
   "execution_count": 54,
   "metadata": {},
   "outputs": [],
   "source": [
    "import csv\n",
    "import re\n",
    "import numpy as np\n",
    "from pathlib import Path\n",
    "from BAG_Code_tw520.BayesianAttackGraph import parse_dot\n",
    "from BAG_Code_tw520.createANDtable import create_AND_table\n",
    "from BAG_Code_tw520.createORtable import create_OR_table\n",
    "from BAG_Code_tw520.Tools_tree import tokenizer, Parser\n",
    "\n",
    "from pgmpy.inference.ExactInference import BeliefPropagation\n",
    "from pgmpy.factors.discrete import TabularCPD"
   ]
  },
  {
   "cell_type": "markdown",
   "metadata": {},
   "source": [
    "To prepare the simulation use the following to put the graph in memory:"
   ]
  },
  {
   "cell_type": "code",
   "execution_count": 55,
   "metadata": {},
   "outputs": [],
   "source": [
    "# Name of the simulation\n",
    "simulation = \"selection\"\n",
    "\n",
    "# Constante for probability one\n",
    "ONE = 0.999"
   ]
  },
  {
   "cell_type": "code",
   "execution_count": 56,
   "metadata": {},
   "outputs": [],
   "source": [
    "def to_dot(BAG, nodes, evidences, display_kts=False):\n",
    "    dot = 'digraph G {\\n'\n",
    "    regex = r\"\\d+:RULE \\d+ \\((.*?)\\):\\d+\\.\\d+\"\n",
    "    print(BAG)\n",
    "    prop = BeliefPropagation(BAG)\n",
    "    nodes_wo_evidences = [n for n in nodes.keys() if n not in evidences.keys()]\n",
    "    total_prob = prop.query(nodes_wo_evidences, evidence=evidences)\n",
    "    def node_to_dot(node):\n",
    "        if node not in evidences.keys():\n",
    "            prob = total_prob.marginalize([n for n in nodes_wo_evidences if n != node], inplace=False).values[1]\n",
    "        else:\n",
    "            prob = 1\n",
    "        probH = int(prob * 255)\n",
    "        color = '#' + format(probH, '02X') +''+ format(255-probH, '02X') + '00'\n",
    "        CVE = nodes[node]['CVE']\n",
    "        LABEL = nodes[node]['label']\n",
    "        number = LABEL.split(\":\")[0]\n",
    "        prob = \"{:.3f}\".format(prob)\n",
    "        shape = nodes[node]['shape']\n",
    "        if CVE != 'null':\n",
    "            return f'  {node} [label=\\\"{node} ({number})\\\\n{CVE}\\\\n{prob}\\\", color=\\\"{color}\\\", penwidth=3, shape=\\\"{shape}\\\"];\\n'\n",
    "        else:\n",
    "            correspondance = re.search(regex, LABEL)\n",
    "            if correspondance:\n",
    "                return f'  {node} [label=\\\"{node} ({number})\\\\n{correspondance.group(1)}\\\\n{prob}\\\", color=\\\"{color}\\\", penwidth=3, shape=\\\"{shape}\\\"];\\n'\n",
    "            else:\n",
    "                return f'  {node} [label=\"{node} ({number})\\\\n{LABEL}\\\\n{prob}\", color=\"{color}\", penwidth=3, shape=\"{shape}\"];\\n'\n",
    "    for node in nodes.keys():\n",
    "        dot += node_to_dot(node)\n",
    "    for edge in BAG.edges():\n",
    "        if display_kts or edge[0] in nodes.keys():\n",
    "            dot += f'  \\\"{edge[0]}\\\" -> \\\"{edge[1]}\\\";\\n'\n",
    "    dot += '}'\n",
    "    return dot\n",
    "\n",
    "def kts_layer(BAG, ONE, nodes):    \n",
    "    # The skills layer:\n",
    "    cpd_ALskills = TabularCPD('ALskills', 2, [[1-ONE], [ONE]])\n",
    "    cpd_AHskills = TabularCPD('AHskills', 2, [[ONE], [1-ONE]])\n",
    "    cpd_0skills = TabularCPD('uskills', 2, [[0.5], [0.5]])\n",
    "    BAG.add_edge('ALskills', 'Lskills')\n",
    "    BAG.add_edge('ALskills', 'Hskills')\n",
    "    BAG.add_edge('AHskills', 'Hskills')\n",
    "    BAG.add_edge('Hskills', 'Lskills')\n",
    "    cpd_Lskills = TabularCPD('Lskills', 2, create_OR_table([0.9, 1]).T, ['ALskills', 'Hskills'], evidence_card=2*np.ones(2))\n",
    "    cpd_Hskills = TabularCPD('Hskills', 2, create_OR_table([0.1, 0.9]).T, ['ALskills', 'AHskills'], evidence_card=2*np.ones(2))\n",
    "\n",
    "\n",
    "    # The knowledge layer:\n",
    "    cpd_knowledge = [TabularCPD(knowledge, 2, [[0.5], [0.5]]) for knowledge in ['Known vulnerabilities', 'CQCM', 'No credentials', 'MITM', 'Permissions move', 'Privilege escalation', 'Lateral move', 'ADCS']]\n",
    "\n",
    "    # Import all the dependencies\n",
    "    cpt_l4 = create_AND_table([ONE, ONE, ONE, ONE])\n",
    "    with open('./Threat_Inteligence/CVE_knowledge_tooling_skills.csv', mode='r') as ktsfile:\n",
    "        reader = csv.DictReader(ktsfile)\n",
    "        kts_dict = {}\n",
    "        for row in reader:\n",
    "            cve = row['Vulnerability']\n",
    "            tmp = {'tool': row['tool'], 'skills': row['skills'], 'Type': row['Type']}\n",
    "            kts_dict[cve] = tmp\n",
    "    for node in nodes.items():\n",
    "            id = node[0]\n",
    "            node = node[1]\n",
    "            if node['CVE'] != \"null\":\n",
    "                row = kts_dict[node['CVE']]\n",
    "                build_tools_tree(BAG, Parser(tokenizer(row['tool'])).parse(), id)\n",
    "                BAG.add_edge(row['skills'] + 'skills', id)\n",
    "                BAG.add_edge(row['Type'], id)\n",
    "                parents = BAG.get_parents(id)\n",
    "                BAG.add_cpds(TabularCPD(id, 2, cpt_l4.T, parents, evidence_card=2*np.ones(len(parents))))\n",
    "    # We add all the necessary CPDs to the BAG\n",
    "    for cpd in [cpd_0skills, cpd_Lskills, cpd_ALskills, cpd_AHskills, cpd_Hskills] + cpd_knowledge:\n",
    "        if BAG.__contains__(cpd.variable):\n",
    "            BAG.add_cpds(cpd)\n",
    "\n",
    "def build_tools_tree(BAG, ast, id):\n",
    "    if ast.type == 'AND':\n",
    "        BAG.add_edge(ast, id)\n",
    "        for child in ast.children:\n",
    "            build_tools_tree(BAG, child, ast)\n",
    "        if BAG.get_cpds(ast) == None:\n",
    "            BAG.add_cpds(TabularCPD(ast, 2, create_AND_table([ONE, ONE]).T, ast.children, evidence_card=2*np.ones(len(ast.children))))\n",
    "    elif ast.type == 'OR':\n",
    "        BAG.add_edge(ast, id)\n",
    "        for child in ast.children:\n",
    "            build_tools_tree(BAG, child, ast)\n",
    "        if BAG.get_cpds(ast) == None:\n",
    "            BAG.add_cpds(TabularCPD(ast, 2, [[0.5], [0.5]]))\n",
    "    else:\n",
    "        BAG.add_edge(ast, id)\n",
    "        if BAG.get_cpds(ast) == None:\n",
    "            BAG.add_cpds(TabularCPD(ast, 2, [[0.5], [0.5]]))\n",
    "\n"
   ]
  },
  {
   "cell_type": "code",
   "execution_count": 57,
   "metadata": {},
   "outputs": [
    {
     "name": "stderr",
     "output_type": "stream",
     "text": [
      "WARNING:pgmpy:Replacing existing CPD for 2\n",
      "WARNING:pgmpy:Replacing existing CPD for 4\n",
      "WARNING:pgmpy:Replacing existing CPD for 6\n",
      "WARNING:pgmpy:Replacing existing CPD for 10\n",
      "WARNING:pgmpy:Replacing existing CPD for 12\n",
      "WARNING:pgmpy:Replacing existing CPD for 14\n",
      "WARNING:pgmpy:Replacing existing CPD for 16\n",
      "WARNING:pgmpy:Replacing existing CPD for 17\n",
      "WARNING:pgmpy:Replacing existing CPD for 19\n"
     ]
    }
   ],
   "source": [
    "\n",
    "# Path to the folder containing the tree\n",
    "path = Path.cwd() / (\"Personnal_simulations/output_\" + simulation + \"/strongly_connected_components/\")\n",
    "file_name = \"ag-nocycles.dot\"\n",
    "path_to_dot = path / file_name\n",
    "output_file = path / (file_name[:-4] + \"_colored.dot\")\n",
    "\n",
    "# We all read from the file, adding probabilities in the same time\n",
    "BAG, edges, nodes = parse_dot(open(path_to_dot, 'r').read(), ONE)\n",
    "\n",
    "# This is the reference BAG, before the attacker has compromised any node\n",
    "BAG_ref = BAG.copy()\n",
    "prop0 = BeliefPropagation(BAG_ref)\n",
    "\n",
    "# We create a dictionary to get the node number from the label\n",
    "inverted_nodes = {int(v['label'].split(':')[0]): k for k, v in nodes.items()}\n",
    "\n",
    "kts_layer(BAG, ONE, nodes)"
   ]
  },
  {
   "cell_type": "code",
   "execution_count": 58,
   "metadata": {},
   "outputs": [
    {
     "name": "stdout",
     "output_type": "stream",
     "text": [
      "BayesianNetwork with 43 nodes and 55 edges\n",
      "BayesianNetwork with 19 nodes and 20 edges\n"
     ]
    }
   ],
   "source": [
    "evidence = {14 : 1}\n",
    "with open(output_file, 'w') as f:\n",
    "    f.write(to_dot(BAG, nodes, evidence, display_kts=True))\n",
    "with open(path / (\"BAG_ref\" + \".dot\"), 'w') as f:\n",
    "    f.write(to_dot(BAG_ref, nodes, evidence))"
   ]
  },
  {
   "cell_type": "markdown",
   "metadata": {},
   "source": [
    "## When the attacker become dcsync and we want to recalculate for domain admin\n",
    "src_node = [7, 10]\n",
    "dst_node = [ 14, 16, 12, 2]"
   ]
  },
  {
   "cell_type": "code",
   "execution_count": 59,
   "metadata": {},
   "outputs": [
    {
     "ename": "ValueError",
     "evalue": "Node not present in the Directed Graph",
     "output_type": "error",
     "traceback": [
      "\u001b[1;31m---------------------------------------------------------------------------\u001b[0m",
      "\u001b[1;31mValueError\u001b[0m                                Traceback (most recent call last)",
      "Cell \u001b[1;32mIn[59], line 2\u001b[0m\n\u001b[0;32m      1\u001b[0m \u001b[38;5;66;03m# tab = BeliefPropagation(BAG).query(['Impacket'], evidence=evidence)\u001b[39;00m\n\u001b[1;32m----> 2\u001b[0m \u001b[38;5;28mprint\u001b[39m(\u001b[43mBAG\u001b[49m\u001b[38;5;241;43m.\u001b[39;49m\u001b[43mget_cpds\u001b[49m\u001b[43m(\u001b[49m\u001b[38;5;124;43m'\u001b[39;49m\u001b[38;5;124;43mImpacket\u001b[39;49m\u001b[38;5;124;43m'\u001b[39;49m\u001b[43m)\u001b[49m)\n",
      "File \u001b[1;32mc:\\Users\\docuser\\AppData\\Local\\Programs\\Python\\Python312\\Lib\\site-packages\\pgmpy\\models\\BayesianNetwork.py:297\u001b[0m, in \u001b[0;36mBayesianNetwork.get_cpds\u001b[1;34m(self, node)\u001b[0m\n\u001b[0;32m    295\u001b[0m \u001b[38;5;28;01mif\u001b[39;00m node \u001b[38;5;129;01mis\u001b[39;00m \u001b[38;5;129;01mnot\u001b[39;00m \u001b[38;5;28;01mNone\u001b[39;00m:\n\u001b[0;32m    296\u001b[0m     \u001b[38;5;28;01mif\u001b[39;00m node \u001b[38;5;129;01mnot\u001b[39;00m \u001b[38;5;129;01min\u001b[39;00m \u001b[38;5;28mself\u001b[39m\u001b[38;5;241m.\u001b[39mnodes():\n\u001b[1;32m--> 297\u001b[0m         \u001b[38;5;28;01mraise\u001b[39;00m \u001b[38;5;167;01mValueError\u001b[39;00m(\u001b[38;5;124m\"\u001b[39m\u001b[38;5;124mNode not present in the Directed Graph\u001b[39m\u001b[38;5;124m\"\u001b[39m)\n\u001b[0;32m    298\u001b[0m     \u001b[38;5;28;01melse\u001b[39;00m:\n\u001b[0;32m    299\u001b[0m         \u001b[38;5;28;01mfor\u001b[39;00m cpd \u001b[38;5;129;01min\u001b[39;00m \u001b[38;5;28mself\u001b[39m\u001b[38;5;241m.\u001b[39mcpds:\n",
      "\u001b[1;31mValueError\u001b[0m: Node not present in the Directed Graph"
     ]
    }
   ],
   "source": [
    "# tab = BeliefPropagation(BAG).query(['Impacket'], evidence=evidence)\n",
    "print(BAG.get_cpds('Impacket'))"
   ]
  }
 ],
 "metadata": {
  "kernelspec": {
   "display_name": "Python 3",
   "language": "python",
   "name": "python3"
  },
  "language_info": {
   "codemirror_mode": {
    "name": "ipython",
    "version": 3
   },
   "file_extension": ".py",
   "mimetype": "text/x-python",
   "name": "python",
   "nbconvert_exporter": "python",
   "pygments_lexer": "ipython3",
   "version": "3.12.3"
  }
 },
 "nbformat": 4,
 "nbformat_minor": 2
}
