{
 "cells": [
  {
   "cell_type": "code",
   "execution_count": 81,
   "metadata": {},
   "outputs": [],
   "source": [
    "import csv\n",
    "import re\n",
    "import numpy as np\n",
    "from pathlib import Path\n",
    "from BAG_Code_tw520.BayesianAttackGraph import parse_dot, evidences_to_string\n",
    "from BAG_Code_tw520.createANDtable import create_AND_table\n",
    "from BAG_Code_tw520.createORtable import create_OR_table\n",
    "from BAG_Code_tw520.Tools_tree import kts_layer_static, kts_layer_original\n",
    "import BAG_Code_tw520.Loopy as Loopy\n",
    "\n",
    "from pgmpy.inference.ExactInference import BeliefPropagation\n",
    "from pgmpy.factors.discrete import TabularCPD"
   ]
  },
  {
   "cell_type": "code",
   "execution_count": 82,
   "metadata": {},
   "outputs": [],
   "source": [
    "# Name of the simulation\n",
    "simulation = \"HighLevel\"\n",
    "\n",
    "# Constante for probability one\n",
    "ONE = 0.999"
   ]
  },
  {
   "cell_type": "code",
   "execution_count": 83,
   "metadata": {},
   "outputs": [],
   "source": [
    "# Path to the folder containing the tree\n",
    "path = Path.cwd() / (\"Personnal_simulations/output_\" + simulation + \"/strongly_connected_components/\")\n",
    "basename = \"comparison\"\n",
    "\n",
    "# We all read from the file the edges and the nodes\n",
    "BAG_static, null, nodes_static = parse_dot(open(Path.cwd() / (\"Personnal_simulations/output_\" + simulation + \"_no_HP/strongly_connected_components/\" + \"ag-nocycles.dot\"), 'r').read(), ONE)\n",
    "BAG_dynamic, null, nodes_dynamic = parse_dot(open(path /\"ag-nocycles.dot\", 'r').read(), ONE)\n",
    "\n",
    "# We create a dictionary to get the node number from the label\n",
    "kts_layer_static(BAG_static, ONE, nodes_static)\n",
    "kts_layer_original(BAG_dynamic, ONE, nodes_dynamic)"
   ]
  },
  {
   "cell_type": "code",
   "execution_count": 84,
   "metadata": {},
   "outputs": [],
   "source": [
    "def deviation(BAG_static, BAG_dynamic, nodes_static, evidences, calculate_probabilities=False):\n",
    "    for type in evidences.keys():\n",
    "        evidences[type] = {str(k): 1 for k in evidences[type]}\n",
    "    # Exact inference\n",
    "    if calculate_probabilities ==1:\n",
    "        nodes_wo_evidences = [n for n in nodes_static if n not in evidences['static'].keys()]\n",
    "        nodes_1 = nodes_wo_evidences[:len(nodes_wo_evidences)//3]\n",
    "        nodes_2 = nodes_wo_evidences[len(nodes_wo_evidences)//3:(len(nodes_wo_evidences)*2)//3]\n",
    "        nodes_3 = nodes_wo_evidences[(len(nodes_wo_evidences)*2)//3:]\n",
    "        prop = {}\n",
    "        prop['static'] = BeliefPropagation(BAG_static)\n",
    "        prop['dynamic'] = BeliefPropagation(BAG_dynamic)\n",
    "        total_prob1 = {}\n",
    "        total_prob2 = {}\n",
    "        total_prob3 = {}\n",
    "        for p in prop.items():\n",
    "            total_prob1[p[0]] = p[1].query(nodes_1, evidence=evidences[p[0]])\n",
    "            total_prob2[p[0]] = p[1].query(nodes_2, evidence=evidences[p[0]])\n",
    "            total_prob3[p[0]] = p[1].query(nodes_3, evidence=evidences[p[0]])\n",
    "\n",
    "    def probability(node, type):\n",
    "        prob = 1\n",
    "        if node in evidences.keys():\n",
    "            prob = evidences[node]\n",
    "        else:\n",
    "            if node in nodes_1:\n",
    "                prob = total_prob1[type].marginalize([n for n in nodes_1 if n != node], inplace=False).values[1]\n",
    "            elif node in nodes_2:\n",
    "                prob = total_prob2[type].marginalize([n for n in nodes_2 if n != node], inplace=False).values[1]\n",
    "            elif node in nodes_3:\n",
    "                prob = total_prob3[type].marginalize([n for n in nodes_3 if n != node], inplace=False).values[1]\n",
    "        return prob\n",
    "    \n",
    "    # Display the nodes\n",
    "    prob_static = []\n",
    "    prob_dynamic = []\n",
    "    for node in nodes_static.keys():\n",
    "            prob_static.append(probability(node, 'static'))\n",
    "            prob_dynamic.append(probability(node, 'dynamic'))\n",
    "    return prob_static, prob_dynamic"
   ]
  },
  {
   "cell_type": "code",
   "execution_count": 85,
   "metadata": {},
   "outputs": [],
   "source": [
    "def variation(prob_static, prob_dynamic):\n",
    "    sum = 0\n",
    "    lenght = 0\n",
    "    for i in range(len(prob_static)):\n",
    "        if prob_static[i] <0.9:\n",
    "            dif = 2 * abs(prob_dynamic[i] - prob_static[i])/(prob_static[i] + prob_dynamic[i])\n",
    "            sum += dif\n",
    "            lenght += 1\n",
    "    return sum/lenght\n",
    "\n",
    "def difference(prob_static, prob_dynamic):\n",
    "    sum = 0\n",
    "    lenght = 0\n",
    "    for i in range(len(prob_static)):\n",
    "        if prob_static[i] <0.9:\n",
    "            dif = abs(prob_dynamic[i] - prob_static[i])\n",
    "            sum += 100*dif\n",
    "            lenght += 1\n",
    "    return sum/lenght\n",
    "    "
   ]
  },
  {
   "cell_type": "code",
   "execution_count": 87,
   "metadata": {},
   "outputs": [
    {
     "name": "stderr",
     "output_type": "stream",
     "text": [
      "c:\\Users\\docuser\\AppData\\Local\\Programs\\Python\\Python312\\Lib\\site-packages\\pgmpy\\factors\\discrete\\DiscreteFactor.py:796: RuntimeWarning: invalid value encountered in divide\n",
      "  phi.values = phi.values / phi1.values\n"
     ]
    },
    {
     "name": "stdout",
     "output_type": "stream",
     "text": [
      "Step  1  :  [0.0010867004617258003, 9.644100303203507e-05, 0.0013075682389505274, 0.0003421226239716644, 0.008617698336817744, 0.007216919357842707, 0.016489031616346884, 0.017229178661120004, 0.03936478399999999, 0.04801599999999999, 1, 0.0013980468343650796, 0.002746869762584643, 0.0021863201033600023] [0.006279955285008553, 0.0058731426974511156, 0.007796737043980229, 0.007560330415995804, 0.03556497079120596, 0.030123258365595994, 0.026821970106756046, 0.028722992332320407, 0.03482291988511434, 0.04233156431178265, 1, 0.013478012045664076, 0.013767407102124945, 0.015979232918804688]\n",
      "     \\hline Step  1  &  1.1 \\% &  113 \\% \\\\\n",
      "Step  2  :  [0.0014774913006525836, 0.0005311360407703928, 0.007201258755496407, 0.0068979518971039, 0.17375193695475816, 0.1726535203776001, 0.39447432000000016, 0.4376800000000001, 1, 0.9758163540285144, 1, 0.023094803081600015, 0.04537646000000005, 0.05554000000000006] [0.1297474027668557, 0.14321179395645792, 0.18159753308653925, 0.20088713357790794, 0.6441746535355132, 0.6320973110718359, 0.6365448167886735, 0.7069464035469115, 1, 0.972498904777437, 1, 0.2300159659413531, 0.3596366614283922, 0.4488568979078751]\n",
      "     \\hline Step  2  &  27.2 \\% &  142 \\% \\\\\n",
      "Step  3  :  [0.0034328106603531998, 0.0027061297667999988, 0.03669030000000001, 0.03970000000000001, 1, 0.9699371983254621, 1, 0.9985745079679712, 1, 0.9758163540285143, 1, 0.0532970678802957, 0.07488985907812629, 0.08409569293024631] [0.1665549700744814, 0.18415458295270454, 0.2444269866552628, 0.27077529105146037, 1, 0.9950402440460095, 1, 0.9998973740565865, 1, 0.9842067551567689, 1, 0.27702472668078676, 0.37904261660795013, 0.4711909150283495]\n",
      "     \\hline Step  3  &  24.3 \\% &  155 \\% \\\\\n"
     ]
    }
   ],
   "source": [
    "evidences_static = [[11],[11,9], [11,9,7, 5]]\n",
    "evidences_dynamic = [[11],[11,9], [11,9,7, 19]]\n",
    "for i in range(1, 4):\n",
    "    prob_static, prob_dynamic = deviation(BAG_static, BAG_dynamic, nodes_static, {'static' : evidences_static[i-1], 'dynamic' : evidences_dynamic[i-1]}, calculate_probabilities=1)\n",
    "    print(\"Step \", i, \" : \", prob_static, prob_dynamic)\n",
    "    var = variation(prob_static, prob_dynamic)\n",
    "    dif = difference(prob_static, prob_dynamic)\n",
    "    print(\"     \\\\hline Step \", i, \" & \", \"{:.1f}\".format(dif), \"\\\\% & \", int(var * 100), \"\\\\% \\\\\\\\\")\n"
   ]
  }
 ],
 "metadata": {
  "kernelspec": {
   "display_name": "Python 3",
   "language": "python",
   "name": "python3"
  },
  "language_info": {
   "codemirror_mode": {
    "name": "ipython",
    "version": 3
   },
   "file_extension": ".py",
   "mimetype": "text/x-python",
   "name": "python",
   "nbconvert_exporter": "python",
   "pygments_lexer": "ipython3",
   "version": "3.12.3"
  }
 },
 "nbformat": 4,
 "nbformat_minor": 2
}
