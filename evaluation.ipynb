{
 "cells": [
  {
   "cell_type": "markdown",
   "metadata": {},
   "source": [
    "# Comparison notebook\n",
    "This Notebook is designed to compare two methods for probabilistic graphs"
   ]
  },
  {
   "cell_type": "code",
   "execution_count": 1,
   "metadata": {},
   "outputs": [],
   "source": [
    "import numpy as np\n",
    "from pathlib import Path\n",
    "from BAG_Code.BayesianAttackGraph import parse_dot, evidences_to_string\n",
    "from BAG_Code.Tools_tree import kts_layer_static, kts_layer_original\n",
    "import BAG_Code.Loopy as Loopy\n",
    "\n",
    "from pgmpy.inference.ExactInference import BeliefPropagation\n",
    "from pgmpy.factors.discrete import TabularCPD"
   ]
  },
  {
   "cell_type": "markdown",
   "metadata": {},
   "source": [
    "The following regroups constants for the runing project."
   ]
  },
  {
   "cell_type": "code",
   "execution_count": 2,
   "metadata": {},
   "outputs": [
    {
     "ename": "FileNotFoundError",
     "evalue": "[Errno 2] No such file or directory: 'c:\\\\Users\\\\docuser\\\\Documents\\\\ImperialWork\\\\Personnal_simulations\\\\output_HighLevel_no_HP\\\\strongly_connected_components\\\\ag-nocycles.dot'",
     "output_type": "error",
     "traceback": [
      "\u001b[1;31m---------------------------------------------------------------------------\u001b[0m",
      "\u001b[1;31mFileNotFoundError\u001b[0m                         Traceback (most recent call last)",
      "Cell \u001b[1;32mIn[2], line 12\u001b[0m\n\u001b[0;32m      9\u001b[0m basename \u001b[38;5;241m=\u001b[39m \u001b[38;5;124m\"\u001b[39m\u001b[38;5;124mcomparison\u001b[39m\u001b[38;5;124m\"\u001b[39m\n\u001b[0;32m     11\u001b[0m \u001b[38;5;66;03m# We all read from the file the edges and the nodes\u001b[39;00m\n\u001b[1;32m---> 12\u001b[0m BAG_static, null, nodes_static \u001b[38;5;241m=\u001b[39m parse_dot(\u001b[38;5;28;43mopen\u001b[39;49m\u001b[43m(\u001b[49m\u001b[43mPath\u001b[49m\u001b[38;5;241;43m.\u001b[39;49m\u001b[43mcwd\u001b[49m\u001b[43m(\u001b[49m\u001b[43m)\u001b[49m\u001b[43m \u001b[49m\u001b[38;5;241;43m/\u001b[39;49m\u001b[43m \u001b[49m\u001b[43m(\u001b[49m\u001b[38;5;124;43m\"\u001b[39;49m\u001b[38;5;124;43mPersonnal_simulations/output_\u001b[39;49m\u001b[38;5;124;43m\"\u001b[39;49m\u001b[43m \u001b[49m\u001b[38;5;241;43m+\u001b[39;49m\u001b[43m \u001b[49m\u001b[43msimulation\u001b[49m\u001b[43m \u001b[49m\u001b[38;5;241;43m+\u001b[39;49m\u001b[43m \u001b[49m\u001b[38;5;124;43m\"\u001b[39;49m\u001b[38;5;124;43m_no_HP/strongly_connected_components/\u001b[39;49m\u001b[38;5;124;43m\"\u001b[39;49m\u001b[43m \u001b[49m\u001b[38;5;241;43m+\u001b[39;49m\u001b[43m \u001b[49m\u001b[38;5;124;43m\"\u001b[39;49m\u001b[38;5;124;43mag-nocycles.dot\u001b[39;49m\u001b[38;5;124;43m\"\u001b[39;49m\u001b[43m)\u001b[49m\u001b[43m,\u001b[49m\u001b[43m \u001b[49m\u001b[38;5;124;43m'\u001b[39;49m\u001b[38;5;124;43mr\u001b[39;49m\u001b[38;5;124;43m'\u001b[39;49m\u001b[43m)\u001b[49m\u001b[38;5;241m.\u001b[39mread(), ONE)\n\u001b[0;32m     13\u001b[0m BAG_dynamic, null, nodes_dynamic \u001b[38;5;241m=\u001b[39m parse_dot(\u001b[38;5;28mopen\u001b[39m(path \u001b[38;5;241m/\u001b[39m\u001b[38;5;124m\"\u001b[39m\u001b[38;5;124mag-nocycles.dot\u001b[39m\u001b[38;5;124m\"\u001b[39m, \u001b[38;5;124m'\u001b[39m\u001b[38;5;124mr\u001b[39m\u001b[38;5;124m'\u001b[39m)\u001b[38;5;241m.\u001b[39mread(), ONE)\n\u001b[0;32m     15\u001b[0m \u001b[38;5;66;03m# We add the layers for skills, tools and knowledge\u001b[39;00m\n",
      "File \u001b[1;32mc:\\Users\\docuser\\AppData\\Local\\Programs\\Python\\Python312\\Lib\\site-packages\\IPython\\core\\interactiveshell.py:324\u001b[0m, in \u001b[0;36m_modified_open\u001b[1;34m(file, *args, **kwargs)\u001b[0m\n\u001b[0;32m    317\u001b[0m \u001b[38;5;28;01mif\u001b[39;00m file \u001b[38;5;129;01min\u001b[39;00m {\u001b[38;5;241m0\u001b[39m, \u001b[38;5;241m1\u001b[39m, \u001b[38;5;241m2\u001b[39m}:\n\u001b[0;32m    318\u001b[0m     \u001b[38;5;28;01mraise\u001b[39;00m \u001b[38;5;167;01mValueError\u001b[39;00m(\n\u001b[0;32m    319\u001b[0m         \u001b[38;5;124mf\u001b[39m\u001b[38;5;124m\"\u001b[39m\u001b[38;5;124mIPython won\u001b[39m\u001b[38;5;124m'\u001b[39m\u001b[38;5;124mt let you open fd=\u001b[39m\u001b[38;5;132;01m{\u001b[39;00mfile\u001b[38;5;132;01m}\u001b[39;00m\u001b[38;5;124m by default \u001b[39m\u001b[38;5;124m\"\u001b[39m\n\u001b[0;32m    320\u001b[0m         \u001b[38;5;124m\"\u001b[39m\u001b[38;5;124mas it is likely to crash IPython. If you know what you are doing, \u001b[39m\u001b[38;5;124m\"\u001b[39m\n\u001b[0;32m    321\u001b[0m         \u001b[38;5;124m\"\u001b[39m\u001b[38;5;124myou can use builtins\u001b[39m\u001b[38;5;124m'\u001b[39m\u001b[38;5;124m open.\u001b[39m\u001b[38;5;124m\"\u001b[39m\n\u001b[0;32m    322\u001b[0m     )\n\u001b[1;32m--> 324\u001b[0m \u001b[38;5;28;01mreturn\u001b[39;00m \u001b[43mio_open\u001b[49m\u001b[43m(\u001b[49m\u001b[43mfile\u001b[49m\u001b[43m,\u001b[49m\u001b[43m \u001b[49m\u001b[38;5;241;43m*\u001b[39;49m\u001b[43margs\u001b[49m\u001b[43m,\u001b[49m\u001b[43m \u001b[49m\u001b[38;5;241;43m*\u001b[39;49m\u001b[38;5;241;43m*\u001b[39;49m\u001b[43mkwargs\u001b[49m\u001b[43m)\u001b[49m\n",
      "\u001b[1;31mFileNotFoundError\u001b[0m: [Errno 2] No such file or directory: 'c:\\\\Users\\\\docuser\\\\Documents\\\\ImperialWork\\\\Personnal_simulations\\\\output_HighLevel_no_HP\\\\strongly_connected_components\\\\ag-nocycles.dot'"
     ]
    }
   ],
   "source": [
    "# Name of the simulation\n",
    "simulation = \"HighLevel\"\n",
    "\n",
    "# Constante for probability one\n",
    "ONE = 0.999\n",
    "\n",
    "# Path to the folder containing the tree\n",
    "path = Path.cwd() / (\"Personnal_simulations/output_\" + simulation + \"/strongly_connected_components/\")\n",
    "basename = \"comparison\"\n",
    "\n",
    "# We all read from the file the edges and the nodes\n",
    "BAG_static, null, nodes_static = parse_dot(open(Path.cwd() / (\"Personnal_simulations/output_\" + simulation + \"_no_HP_rapport/strongly_connected_components/\" + \"ag-nocycles.dot\"), 'r').read(), ONE)\n",
    "BAG_dynamic, null, nodes_dynamic = parse_dot(open(path /\"ag-nocycles.dot\", 'r').read(), ONE)\n",
    "\n",
    "# We add the layers for skills, tools and knowledge\n",
    "kts_layer_static(BAG_static, ONE, nodes_static)\n",
    "kts_layer_original(BAG_dynamic, ONE, nodes_dynamic)"
   ]
  },
  {
   "cell_type": "markdown",
   "metadata": {},
   "source": [
    "The following are the functions defined for this simulation"
   ]
  },
  {
   "cell_type": "code",
   "execution_count": null,
   "metadata": {},
   "outputs": [],
   "source": [
    "def deviation(BAG_static, BAG_dynamic, nodes_static, evidences, calculate_probabilities=False):\n",
    "    for type in evidences.keys():\n",
    "        evidences[type] = {str(k): 1 for k in evidences[type]}\n",
    "    # Exact inference\n",
    "    if calculate_probabilities ==1:\n",
    "        nodes_wo_evidences = [n for n in nodes_static if n not in evidences['static'].keys()]\n",
    "        nodes_1 = nodes_wo_evidences[:len(nodes_wo_evidences)//3]\n",
    "        nodes_2 = nodes_wo_evidences[len(nodes_wo_evidences)//3:(len(nodes_wo_evidences)*2)//3]\n",
    "        nodes_3 = nodes_wo_evidences[(len(nodes_wo_evidences)*2)//3:]\n",
    "        prop = {}\n",
    "        prop['static'] = BeliefPropagation(BAG_static)\n",
    "        prop['dynamic'] = BeliefPropagation(BAG_dynamic)\n",
    "        total_prob1 = {}\n",
    "        total_prob2 = {}\n",
    "        total_prob3 = {}\n",
    "        for p in prop.items():\n",
    "            total_prob1[p[0]] = p[1].query(nodes_1, evidence=evidences[p[0]])\n",
    "            total_prob2[p[0]] = p[1].query(nodes_2, evidence=evidences[p[0]])\n",
    "            total_prob3[p[0]] = p[1].query(nodes_3, evidence=evidences[p[0]])\n",
    "\n",
    "    def probability(node, type):\n",
    "        prob = 1\n",
    "        if node in evidences.keys():\n",
    "            prob = evidences[node]\n",
    "        else:\n",
    "            if node in nodes_1:\n",
    "                prob = total_prob1[type].marginalize([n for n in nodes_1 if n != node], inplace=False).values[1]\n",
    "            elif node in nodes_2:\n",
    "                prob = total_prob2[type].marginalize([n for n in nodes_2 if n != node], inplace=False).values[1]\n",
    "            elif node in nodes_3:\n",
    "                prob = total_prob3[type].marginalize([n for n in nodes_3 if n != node], inplace=False).values[1]\n",
    "        return prob\n",
    "    \n",
    "    # Display the nodes\n",
    "    prob_static = []\n",
    "    prob_dynamic = []\n",
    "    for node in nodes_static.keys():\n",
    "            prob_static.append(probability(node, 'static'))\n",
    "            prob_dynamic.append(probability(node, 'dynamic'))\n",
    "    return prob_static, prob_dynamic"
   ]
  },
  {
   "cell_type": "code",
   "execution_count": null,
   "metadata": {},
   "outputs": [],
   "source": [
    "def variation(prob_static, prob_dynamic):\n",
    "    sum = 0\n",
    "    lenght = 0\n",
    "    for i in range(len(prob_static)):\n",
    "        if prob_static[i] <0.9:\n",
    "            dif = 2 * abs(prob_dynamic[i] - prob_static[i])/(prob_static[i] + prob_dynamic[i])\n",
    "            sum += dif\n",
    "            lenght += 1\n",
    "    return sum/lenght\n",
    "\n",
    "def difference(prob_static, prob_dynamic):\n",
    "    sum = 0\n",
    "    lenght = 0\n",
    "    for i in range(len(prob_static)):\n",
    "        if prob_static[i] <0.9:\n",
    "            dif = abs(prob_dynamic[i] - prob_static[i])\n",
    "            sum += 100*dif\n",
    "            lenght += 1\n",
    "    return sum/lenght\n",
    "    "
   ]
  },
  {
   "cell_type": "code",
   "execution_count": null,
   "metadata": {},
   "outputs": [
    {
     "name": "stderr",
     "output_type": "stream",
     "text": [
      "c:\\Users\\docuser\\AppData\\Local\\Programs\\Python\\Python312\\Lib\\site-packages\\pgmpy\\inference\\ExactInference.py:763: SyntaxWarning: invalid escape sequence '\\s'\n",
      "  \"\"\"\n",
      "c:\\Users\\docuser\\AppData\\Local\\Programs\\Python\\Python312\\Lib\\site-packages\\pgmpy\\models\\MarkovNetwork.py:611: SyntaxWarning: invalid escape sequence '\\p'\n",
      "  \"\"\"\n",
      "c:\\Users\\docuser\\AppData\\Local\\Programs\\Python\\Python312\\Lib\\site-packages\\pgmpy\\models\\MarkovNetwork.py:725: SyntaxWarning: invalid escape sequence '\\s'\n",
      "  \"\"\"\n"
     ]
    },
    {
     "ename": "ValueError",
     "evalue": "negative dimensions are not allowed",
     "output_type": "error",
     "traceback": [
      "\u001b[1;31m---------------------------------------------------------------------------\u001b[0m",
      "\u001b[1;31mValueError\u001b[0m                                Traceback (most recent call last)",
      "Cell \u001b[1;32mIn[5], line 4\u001b[0m\n\u001b[0;32m      2\u001b[0m evidences_dynamic \u001b[38;5;241m=\u001b[39m [[\u001b[38;5;241m11\u001b[39m],[\u001b[38;5;241m11\u001b[39m,\u001b[38;5;241m9\u001b[39m], [\u001b[38;5;241m11\u001b[39m,\u001b[38;5;241m9\u001b[39m,\u001b[38;5;241m7\u001b[39m, \u001b[38;5;241m19\u001b[39m]]\n\u001b[0;32m      3\u001b[0m \u001b[38;5;28;01mfor\u001b[39;00m i \u001b[38;5;129;01min\u001b[39;00m \u001b[38;5;28mrange\u001b[39m(\u001b[38;5;241m1\u001b[39m, \u001b[38;5;241m4\u001b[39m):\n\u001b[1;32m----> 4\u001b[0m     prob_static, prob_dynamic \u001b[38;5;241m=\u001b[39m \u001b[43mdeviation\u001b[49m\u001b[43m(\u001b[49m\u001b[43mBAG_static\u001b[49m\u001b[43m,\u001b[49m\u001b[43m \u001b[49m\u001b[43mBAG_dynamic\u001b[49m\u001b[43m,\u001b[49m\u001b[43m \u001b[49m\u001b[43mnodes_static\u001b[49m\u001b[43m,\u001b[49m\u001b[43m \u001b[49m\u001b[43m{\u001b[49m\u001b[38;5;124;43m'\u001b[39;49m\u001b[38;5;124;43mstatic\u001b[39;49m\u001b[38;5;124;43m'\u001b[39;49m\u001b[43m \u001b[49m\u001b[43m:\u001b[49m\u001b[43m \u001b[49m\u001b[43mevidences_static\u001b[49m\u001b[43m[\u001b[49m\u001b[43mi\u001b[49m\u001b[38;5;241;43m-\u001b[39;49m\u001b[38;5;241;43m1\u001b[39;49m\u001b[43m]\u001b[49m\u001b[43m,\u001b[49m\u001b[43m \u001b[49m\u001b[38;5;124;43m'\u001b[39;49m\u001b[38;5;124;43mdynamic\u001b[39;49m\u001b[38;5;124;43m'\u001b[39;49m\u001b[43m \u001b[49m\u001b[43m:\u001b[49m\u001b[43m \u001b[49m\u001b[43mevidences_dynamic\u001b[49m\u001b[43m[\u001b[49m\u001b[43mi\u001b[49m\u001b[38;5;241;43m-\u001b[39;49m\u001b[38;5;241;43m1\u001b[39;49m\u001b[43m]\u001b[49m\u001b[43m}\u001b[49m\u001b[43m,\u001b[49m\u001b[43m \u001b[49m\u001b[43mcalculate_probabilities\u001b[49m\u001b[38;5;241;43m=\u001b[39;49m\u001b[38;5;241;43m1\u001b[39;49m\u001b[43m)\u001b[49m\n\u001b[0;32m      5\u001b[0m     var \u001b[38;5;241m=\u001b[39m variation(prob_static, prob_dynamic)\n\u001b[0;32m      6\u001b[0m     dif \u001b[38;5;241m=\u001b[39m difference(prob_static, prob_dynamic)\n",
      "Cell \u001b[1;32mIn[3], line 12\u001b[0m, in \u001b[0;36mdeviation\u001b[1;34m(BAG_static, BAG_dynamic, nodes_static, evidences, calculate_probabilities)\u001b[0m\n\u001b[0;32m     10\u001b[0m prop \u001b[38;5;241m=\u001b[39m {}\n\u001b[0;32m     11\u001b[0m prop[\u001b[38;5;124m'\u001b[39m\u001b[38;5;124mstatic\u001b[39m\u001b[38;5;124m'\u001b[39m] \u001b[38;5;241m=\u001b[39m BeliefPropagation(BAG_static)\n\u001b[1;32m---> 12\u001b[0m prop[\u001b[38;5;124m'\u001b[39m\u001b[38;5;124mdynamic\u001b[39m\u001b[38;5;124m'\u001b[39m] \u001b[38;5;241m=\u001b[39m \u001b[43mBeliefPropagation\u001b[49m\u001b[43m(\u001b[49m\u001b[43mBAG_dynamic\u001b[49m\u001b[43m)\u001b[49m\n\u001b[0;32m     13\u001b[0m total_prob1 \u001b[38;5;241m=\u001b[39m {}\n\u001b[0;32m     14\u001b[0m total_prob2 \u001b[38;5;241m=\u001b[39m {}\n",
      "File \u001b[1;32mc:\\Users\\docuser\\AppData\\Local\\Programs\\Python\\Python312\\Lib\\site-packages\\pgmpy\\inference\\ExactInference.py:700\u001b[0m, in \u001b[0;36mBeliefPropagation.__init__\u001b[1;34m(self, model)\u001b[0m\n\u001b[0;32m    697\u001b[0m \u001b[38;5;28msuper\u001b[39m(BeliefPropagation, \u001b[38;5;28mself\u001b[39m)\u001b[38;5;241m.\u001b[39m\u001b[38;5;21m__init__\u001b[39m(model)\n\u001b[0;32m    699\u001b[0m \u001b[38;5;28;01mif\u001b[39;00m \u001b[38;5;129;01mnot\u001b[39;00m \u001b[38;5;28misinstance\u001b[39m(model, JunctionTree):\n\u001b[1;32m--> 700\u001b[0m     \u001b[38;5;28mself\u001b[39m\u001b[38;5;241m.\u001b[39mjunction_tree \u001b[38;5;241m=\u001b[39m \u001b[43mmodel\u001b[49m\u001b[38;5;241;43m.\u001b[39;49m\u001b[43mto_junction_tree\u001b[49m\u001b[43m(\u001b[49m\u001b[43m)\u001b[49m\n\u001b[0;32m    701\u001b[0m \u001b[38;5;28;01melse\u001b[39;00m:\n\u001b[0;32m    702\u001b[0m     \u001b[38;5;28mself\u001b[39m\u001b[38;5;241m.\u001b[39mjunction_tree \u001b[38;5;241m=\u001b[39m copy\u001b[38;5;241m.\u001b[39mdeepcopy(model)\n",
      "File \u001b[1;32mc:\\Users\\docuser\\AppData\\Local\\Programs\\Python\\Python312\\Lib\\site-packages\\pgmpy\\models\\BayesianNetwork.py:511\u001b[0m, in \u001b[0;36mBayesianNetwork.to_junction_tree\u001b[1;34m(self)\u001b[0m\n\u001b[0;32m    474\u001b[0m \u001b[38;5;250m\u001b[39m\u001b[38;5;124;03m\"\"\"\u001b[39;00m\n\u001b[0;32m    475\u001b[0m \u001b[38;5;124;03mCreates a junction tree (or clique tree) for a given Bayesian Network.\u001b[39;00m\n\u001b[0;32m    476\u001b[0m \n\u001b[1;32m   (...)\u001b[0m\n\u001b[0;32m    508\u001b[0m \u001b[38;5;124;03m>>> jt = G.to_junction_tree()\u001b[39;00m\n\u001b[0;32m    509\u001b[0m \u001b[38;5;124;03m\"\"\"\u001b[39;00m\n\u001b[0;32m    510\u001b[0m mm \u001b[38;5;241m=\u001b[39m \u001b[38;5;28mself\u001b[39m\u001b[38;5;241m.\u001b[39mto_markov_model()\n\u001b[1;32m--> 511\u001b[0m \u001b[38;5;28;01mreturn\u001b[39;00m \u001b[43mmm\u001b[49m\u001b[38;5;241;43m.\u001b[39;49m\u001b[43mto_junction_tree\u001b[49m\u001b[43m(\u001b[49m\u001b[43m)\u001b[49m\n",
      "File \u001b[1;32mc:\\Users\\docuser\\AppData\\Local\\Programs\\Python\\Python312\\Lib\\site-packages\\pgmpy\\models\\MarkovNetwork.py:574\u001b[0m, in \u001b[0;36mMarkovNetwork.to_junction_tree\u001b[1;34m(self)\u001b[0m\n\u001b[0;32m    571\u001b[0m \u001b[38;5;66;03m# To compute clique potential, initially set it as unity factor\u001b[39;00m\n\u001b[0;32m    572\u001b[0m var_card \u001b[38;5;241m=\u001b[39m [\u001b[38;5;28mself\u001b[39m\u001b[38;5;241m.\u001b[39mget_cardinality()[x] \u001b[38;5;28;01mfor\u001b[39;00m x \u001b[38;5;129;01min\u001b[39;00m node]\n\u001b[0;32m    573\u001b[0m clique_potential \u001b[38;5;241m=\u001b[39m DiscreteFactor(\n\u001b[1;32m--> 574\u001b[0m     node, var_card, \u001b[43mnp\u001b[49m\u001b[38;5;241;43m.\u001b[39;49m\u001b[43mones\u001b[49m\u001b[43m(\u001b[49m\u001b[43mnp\u001b[49m\u001b[38;5;241;43m.\u001b[39;49m\u001b[43mprod\u001b[49m\u001b[43m(\u001b[49m\u001b[43mvar_card\u001b[49m\u001b[43m)\u001b[49m\u001b[43m)\u001b[49m\n\u001b[0;32m    575\u001b[0m )\n\u001b[0;32m    576\u001b[0m \u001b[38;5;66;03m# multiply it with the factors associated with the variables present\u001b[39;00m\n\u001b[0;32m    577\u001b[0m \u001b[38;5;66;03m# in the clique (or node)\u001b[39;00m\n\u001b[0;32m    578\u001b[0m \u001b[38;5;66;03m# Checking if there's clique_factors, to handle the case when clique_factors\u001b[39;00m\n\u001b[0;32m    579\u001b[0m \u001b[38;5;66;03m# is empty, otherwise factor_product with throw an error [ref #889]\u001b[39;00m\n\u001b[0;32m    580\u001b[0m \u001b[38;5;28;01mif\u001b[39;00m clique_factors:\n",
      "File \u001b[1;32mc:\\Users\\docuser\\AppData\\Local\\Programs\\Python\\Python312\\Lib\\site-packages\\numpy\\core\\numeric.py:191\u001b[0m, in \u001b[0;36mones\u001b[1;34m(shape, dtype, order, like)\u001b[0m\n\u001b[0;32m    188\u001b[0m \u001b[38;5;28;01mif\u001b[39;00m like \u001b[38;5;129;01mis\u001b[39;00m \u001b[38;5;129;01mnot\u001b[39;00m \u001b[38;5;28;01mNone\u001b[39;00m:\n\u001b[0;32m    189\u001b[0m     \u001b[38;5;28;01mreturn\u001b[39;00m _ones_with_like(like, shape, dtype\u001b[38;5;241m=\u001b[39mdtype, order\u001b[38;5;241m=\u001b[39morder)\n\u001b[1;32m--> 191\u001b[0m a \u001b[38;5;241m=\u001b[39m \u001b[43mempty\u001b[49m\u001b[43m(\u001b[49m\u001b[43mshape\u001b[49m\u001b[43m,\u001b[49m\u001b[43m \u001b[49m\u001b[43mdtype\u001b[49m\u001b[43m,\u001b[49m\u001b[43m \u001b[49m\u001b[43morder\u001b[49m\u001b[43m)\u001b[49m\n\u001b[0;32m    192\u001b[0m multiarray\u001b[38;5;241m.\u001b[39mcopyto(a, \u001b[38;5;241m1\u001b[39m, casting\u001b[38;5;241m=\u001b[39m\u001b[38;5;124m'\u001b[39m\u001b[38;5;124munsafe\u001b[39m\u001b[38;5;124m'\u001b[39m)\n\u001b[0;32m    193\u001b[0m \u001b[38;5;28;01mreturn\u001b[39;00m a\n",
      "\u001b[1;31mValueError\u001b[0m: negative dimensions are not allowed"
     ]
    }
   ],
   "source": [
    "evidences_static = [[11],[11, 9], [11, 9,  7, 5]]\n",
    "evidences_dynamic = [[11],[11, 9], [11, 9, 7, 19]]\n",
    "for i in range(1, 4):\n",
    "    prob_static, prob_dynamic = deviation(BAG_static, BAG_dynamic, nodes_static, {'static' : evidences_static[i-1], 'dynamic' : evidences_dynamic[i-1]}, calculate_probabilities=1)\n",
    "    var = variation(prob_static, prob_dynamic)\n",
    "    dif = difference(prob_static, prob_dynamic)\n",
    "    # We print directly in a markdown format\n",
    "    print(\"     \\\\hline Step \", i, \" & \", \"{:.1f}\".format(dif), \"\\\\% & \", int(var * 100), \"\\\\% \\\\\\\\\")\n"
   ]
  }
 ],
 "metadata": {
  "kernelspec": {
   "display_name": "Python 3",
   "language": "python",
   "name": "python3"
  },
  "language_info": {
   "codemirror_mode": {
    "name": "ipython",
    "version": 3
   },
   "file_extension": ".py",
   "mimetype": "text/x-python",
   "name": "python",
   "nbconvert_exporter": "python",
   "pygments_lexer": "ipython3",
   "version": "3.12.3"
  }
 },
 "nbformat": 4,
 "nbformat_minor": 2
}
