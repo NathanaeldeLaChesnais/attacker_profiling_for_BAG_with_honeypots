{
 "cells": [
  {
   "cell_type": "markdown",
   "metadata": {},
   "source": [
    "# Comparison notebook\n",
    "This Notebook is designed to compare two methods for probabilistic graphs"
   ]
  },
  {
   "cell_type": "code",
   "execution_count": 4,
   "metadata": {},
   "outputs": [],
   "source": [
    "import numpy as np\n",
    "from pathlib import Path\n",
    "from BAG_Code.BayesianAttackGraph import parse_dot, evidences_to_string\n",
    "from BAG_Code.Tools_tree import kts_layer_static, kts_layer_original\n",
    "import BAG_Code.Loopy as Loopy\n",
    "\n",
    "from pgmpy.inference.ExactInference import BeliefPropagation\n",
    "from pgmpy.factors.discrete import TabularCPD"
   ]
  },
  {
   "cell_type": "markdown",
   "metadata": {},
   "source": [
    "The following regroups constants for the runing project."
   ]
  },
  {
   "cell_type": "code",
   "execution_count": 5,
   "metadata": {},
   "outputs": [],
   "source": [
    "# Name of the simulation\n",
    "simulation = \"HighLevel\"\n",
    "\n",
    "# Constante for probability one\n",
    "ONE = 0.999\n",
    "\n",
    "# Path to the folder containing the tree\n",
    "path = Path.cwd() / (\"Personnal_simulations/output_\" + simulation + \"/strongly_connected_components/\")\n",
    "basename = \"comparison\"\n",
    "\n",
    "# We all read from the file the edges and the nodes\n",
    "BAG_static, null, nodes_static = parse_dot(open(Path.cwd() / (\"Personnal_simulations/output_\" + simulation + \"_no_HP_rapport/strongly_connected_components/\" + \"ag-nocycles.dot\"), 'r').read(), ONE)\n",
    "BAG_dynamic, null, nodes_dynamic = parse_dot(open(path /\"ag-nocycles.dot\", 'r').read(), ONE)\n",
    "\n",
    "# We add the layers for skills, tools and knowledge\n",
    "kts_layer_static(BAG_static, ONE, nodes_static)\n",
    "kts_layer_original(BAG_dynamic, ONE, nodes_dynamic)"
   ]
  },
  {
   "cell_type": "markdown",
   "metadata": {},
   "source": [
    "The following are the functions defined for this simulation"
   ]
  },
  {
   "cell_type": "code",
   "execution_count": 6,
   "metadata": {},
   "outputs": [],
   "source": [
    "def deviation(BAG_static, BAG_dynamic, nodes_static, evidences, calculate_probabilities=False):\n",
    "    for type in evidences.keys():\n",
    "        evidences[type] = {str(k): 1 for k in evidences[type]}\n",
    "    # Exact inference\n",
    "    if calculate_probabilities ==1:\n",
    "        nodes_wo_evidences = [n for n in nodes_static if n not in evidences['static'].keys()]\n",
    "        nodes_1 = nodes_wo_evidences[:len(nodes_wo_evidences)//3]\n",
    "        nodes_2 = nodes_wo_evidences[len(nodes_wo_evidences)//3:(len(nodes_wo_evidences)*2)//3]\n",
    "        nodes_3 = nodes_wo_evidences[(len(nodes_wo_evidences)*2)//3:]\n",
    "        prop = {}\n",
    "        prop['static'] = BeliefPropagation(BAG_static)\n",
    "        prop['dynamic'] = BeliefPropagation(BAG_dynamic)\n",
    "        total_prob1 = {}\n",
    "        total_prob2 = {}\n",
    "        total_prob3 = {}\n",
    "        for p in prop.items():\n",
    "            total_prob1[p[0]] = p[1].query(nodes_1, evidence=evidences[p[0]])\n",
    "            total_prob2[p[0]] = p[1].query(nodes_2, evidence=evidences[p[0]])\n",
    "            total_prob3[p[0]] = p[1].query(nodes_3, evidence=evidences[p[0]])\n",
    "\n",
    "    def probability(node, type):\n",
    "        prob = 1\n",
    "        if node in evidences.keys():\n",
    "            prob = evidences[node]\n",
    "        else:\n",
    "            if node in nodes_1:\n",
    "                prob = total_prob1[type].marginalize([n for n in nodes_1 if n != node], inplace=False).values[1]\n",
    "            elif node in nodes_2:\n",
    "                prob = total_prob2[type].marginalize([n for n in nodes_2 if n != node], inplace=False).values[1]\n",
    "            elif node in nodes_3:\n",
    "                prob = total_prob3[type].marginalize([n for n in nodes_3 if n != node], inplace=False).values[1]\n",
    "        return prob\n",
    "    \n",
    "    # Display the nodes\n",
    "    prob_static = []\n",
    "    prob_dynamic = []\n",
    "    for node in nodes_static.keys():\n",
    "            prob_static.append(probability(node, 'static'))\n",
    "            prob_dynamic.append(probability(node, 'dynamic'))\n",
    "    return prob_static, prob_dynamic"
   ]
  },
  {
   "cell_type": "code",
   "execution_count": 7,
   "metadata": {},
   "outputs": [],
   "source": [
    "def variation(prob_static, prob_dynamic):\n",
    "    sum = 0\n",
    "    lenght = 0\n",
    "    for i in range(len(prob_static)):\n",
    "        if prob_static[i] <0.9:\n",
    "            dif = 2 * abs(prob_dynamic[i] - prob_static[i])/(prob_static[i] + prob_dynamic[i])\n",
    "            sum += dif\n",
    "            lenght += 1\n",
    "    return sum/lenght\n",
    "\n",
    "def difference(prob_static, prob_dynamic):\n",
    "    sum = 0\n",
    "    lenght = 0\n",
    "    for i in range(len(prob_static)):\n",
    "        if prob_static[i] <0.9:\n",
    "            dif = abs(prob_dynamic[i] - prob_static[i])\n",
    "            sum += 100*dif\n",
    "            lenght += 1\n",
    "    return sum/lenght\n",
    "    "
   ]
  },
  {
   "cell_type": "code",
   "execution_count": 8,
   "metadata": {},
   "outputs": [
    {
     "name": "stdout",
     "output_type": "stream",
     "text": [
      "     \\hline Step  1  &  1.1 \\% &  113 \\% \\\\\n",
      "     \\hline Step  2  &  27.2 \\% &  142 \\% \\\\\n",
      "     \\hline Step  3  &  60.9 \\% &  178 \\% \\\\\n"
     ]
    }
   ],
   "source": [
    "evidences_static = [[11],[11, 9], [11, 9,  7, 5]]\n",
    "evidences_dynamic = [[11],[11, 9], [11, 9, 7, 19]]\n",
    "for i in range(1, 4):\n",
    "    prob_static, prob_dynamic = deviation(BAG_static, BAG_dynamic, nodes_static, {'static' : evidences_static[i-1], 'dynamic' : evidences_dynamic[i-1]}, calculate_probabilities=1)\n",
    "    var = variation(prob_static, prob_dynamic)\n",
    "    dif = difference(prob_static, prob_dynamic)\n",
    "    # We print directly in a markdown format\n",
    "    print(\"     \\\\hline Step \", i, \" & \", \"{:.1f}\".format(dif), \"\\\\% & \", int(var * 100), \"\\\\% \\\\\\\\\")\n"
   ]
  }
 ],
 "metadata": {
  "kernelspec": {
   "display_name": "Python 3",
   "language": "python",
   "name": "python3"
  },
  "language_info": {
   "codemirror_mode": {
    "name": "ipython",
    "version": 3
   },
   "file_extension": ".py",
   "mimetype": "text/x-python",
   "name": "python",
   "nbconvert_exporter": "python",
   "pygments_lexer": "ipython3",
   "version": "3.12.3"
  }
 },
 "nbformat": 4,
 "nbformat_minor": 2
}
